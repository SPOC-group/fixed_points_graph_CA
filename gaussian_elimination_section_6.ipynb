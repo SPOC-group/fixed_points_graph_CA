{
 "cells": [
  {
   "cell_type": "markdown",
   "id": "6f8cd334",
   "metadata": {},
   "source": [
    "# Solutions to rule 1010 using gaussian elimination"
   ]
  },
  {
   "cell_type": "code",
   "execution_count": 1,
   "id": "e4709906",
   "metadata": {},
   "outputs": [],
   "source": [
    "import torch\n",
    "import networkx as nx\n",
    "import numpy as np\n",
    "from tqdm import tqdm"
   ]
  },
  {
   "cell_type": "code",
   "execution_count": 2,
   "id": "ad6e662a",
   "metadata": {},
   "outputs": [],
   "source": [
    "def gauss_torch(M):\n",
    "\n",
    "    m,n = M.shape\n",
    "\n",
    "    i=0\n",
    "    j=0\n",
    "\n",
    "    while i < m and j < n:\n",
    "        # find value and index of largest element in remainder of column j\n",
    "        indexes=M[i:,j].nonzero()\n",
    "        if indexes.numel()>0:\n",
    "            k = indexes[0][0]+i\n",
    "        else:\n",
    "            k=i \n",
    "        # swap rows\n",
    "        temp = torch.clone(M[k])\n",
    "        M[k] = M[i]\n",
    "        M[i] = temp\n",
    "        aijn = M[i, j:]\n",
    "        col = torch.clone(M[:, j]) #make a copy otherwise M will be directly affected\n",
    "        col[i] = 0 #avoid changing pivot row with itself\n",
    "        flip = torch.outer(col, aijn)\n",
    "        M[:, j:] = M[:, j:] ^ flip\n",
    "        i += 1\n",
    "        j +=1\n",
    "\n",
    "    return M"
   ]
  },
  {
   "cell_type": "code",
   "execution_count": 3,
   "id": "22b66dff-afd5-40ad-a95f-ff72e04630d8",
   "metadata": {},
   "outputs": [
    {
     "name": "stderr",
     "output_type": "stream",
     "text": [
      "100%|██████████| 10/10 [8:59:02<00:00, 3234.25s/it] "
     ]
    },
    {
     "name": "stdout",
     "output_type": "stream",
     "text": [
      "N =  80000  num. sat. :  10\n"
     ]
    },
    {
     "name": "stderr",
     "output_type": "stream",
     "text": [
      "\n"
     ]
    }
   ],
   "source": [
    "Ns=[80000]\n",
    "rule=['1','0','1','0']\n",
    "d=len(rule)-1\n",
    "num_exp=10\n",
    "found_for_N=np.zeros(len(Ns))\n",
    "for idx, N in enumerate(Ns):\n",
    "    found=0\n",
    "    for exp in tqdm(range(num_exp)):\n",
    "        # create adjacency matrix M\n",
    "        G=nx.random_regular_graph(n=N, d=d)\n",
    "        M=np.ones((N,N+1), dtype=bool)\n",
    "        M[:,:N]=nx.adjacency_matrix(G).toarray()\n",
    "        M[:,:N]+=np.eye(N, dtype=bool)\n",
    "        M_torch=torch.tensor(M, device='cuda')\n",
    "        sol=gauss_torch(M_torch)[:,N].cpu().numpy()\n",
    "        sol=np.append(sol, False)\n",
    "        num_errors=np.sum(np.sum(M*sol, axis=1)%2!=1)\n",
    "        if num_errors==0:\n",
    "            found+=1\n",
    "    print('N = ', N,' num. sat. : ', found)\n",
    "    found_for_N[idx]=found"
   ]
  }
 ],
 "metadata": {
  "kernelspec": {
   "display_name": "Python 3",
   "language": "python",
   "name": "python3"
  },
  "language_info": {
   "codemirror_mode": {
    "name": "ipython",
    "version": 3
   },
   "file_extension": ".py",
   "mimetype": "text/x-python",
   "name": "python",
   "nbconvert_exporter": "python",
   "pygments_lexer": "ipython3",
   "version": "3.8.18"
  }
 },
 "nbformat": 4,
 "nbformat_minor": 5
}
