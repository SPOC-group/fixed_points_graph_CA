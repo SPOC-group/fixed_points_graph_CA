{
 "cells": [
  {
   "cell_type": "markdown",
   "id": "0e7d3dab",
   "metadata": {},
   "source": [
    "# Checking numerically that B Z_reg= C Z_psi (see definitions in the paper) for all rules with d=3,4,5"
   ]
  },
  {
   "cell_type": "code",
   "execution_count": 1,
   "id": "009cec9d",
   "metadata": {},
   "outputs": [],
   "source": [
    "import numpy as np\n",
    "import scipy\n",
    "import sympy as sp\n",
    "import itertools\n",
    "from src.automata_network import *\n",
    "from utils.rules import *"
   ]
  },
  {
   "cell_type": "code",
   "execution_count": 2,
   "id": "a451d189",
   "metadata": {},
   "outputs": [
    {
     "name": "stderr",
     "output_type": "stream",
     "text": [
      "/home/ckoller/Documents/Fixed_points_graph_CA/src/BP.py:278: RuntimeWarning: divide by zero encountered in log\n",
      "  self.phi=np.log(phi_)-self.d/2*np.log(phi__)\n"
     ]
    }
   ],
   "source": [
    "symbols=['-','+']\n",
    "for rule in itertools.product(symbols, repeat=6):\n",
    "    rule=list(rule)\n",
    "    d=len(rule)-1\n",
    "    def B(r, psi):\n",
    "        return psi[0,0]**(d-1-r)*psi[1,0]**r+psi[0,1]**(d-1-r)*psi[1,1]**r\n",
    "    def C(r, psi):\n",
    "        sum_r_prime=0\n",
    "        sum_r_double_prime=0\n",
    "        for r_prime in range(d):\n",
    "            binomial=scipy.special.comb(d-1,r_prime, exact=True)\n",
    "            sum_r_prime+=binomial*psi[0,1]**(d-1-r_prime)*psi[1,1]**r_prime\n",
    "            sum_r_double_prime+=binomial*psi[0,0]**(d-1-r_prime)*psi[1,0]**r_prime\n",
    "        return sum_r_prime**r*sum_r_double_prime**(d-1-r)\n",
    "    def Z_reg(psi):\n",
    "        psi_0=0\n",
    "        psi_1=0\n",
    "        for r in range(d):\n",
    "            binomial=scipy.special.comb(d-1,r, exact=True)\n",
    "            psi_0+=(rule[r]=='+')*binomial*(psi[0,1]+psi[1,1])**((d-1)*r)*(psi[0,0]+psi[1,0])**((d-1)*(d-1-r))\n",
    "            psi_1+=(rule[r+1]=='+')*binomial*(psi[0,1]+psi[1,1])**((d-1)*r)*(psi[0,0]+psi[1,0])**((d-1)*(d-1-r))\n",
    "        return psi_0+psi_1\n",
    "    def Z_psi(psi):\n",
    "        psi_new=np.zeros((2,2))\n",
    "        for r in range(d):\n",
    "            binomial=scipy.special.comb(d-1,r, exact=True)\n",
    "            psi_new[0,0]+=(rule[r]=='+')*binomial*psi[0,0]**(d-1-r)*psi[1,0]**r\n",
    "            psi_new[1,0]+=(rule[r]=='+')*binomial*psi[0,1]**(d-1-r)*psi[1,1]**r\n",
    "            psi_new[0,1]+=(rule[r+1]=='+')*binomial*psi[0,0]**(d-1-r)*psi[1,0]**r\n",
    "            psi_new[1,1]+=(rule[r+1]=='+')*binomial*psi[0,1]**(d-1-r)*psi[1,1]**r\n",
    "        return np.sum(psi_new)\n",
    "    my_BP=BP(rule)\n",
    "    my_BP.run()\n",
    "    for r in range(d):\n",
    "        if np.abs(B(r,my_BP.psi)*Z_reg(my_BP.psi)-C(r, my_BP.psi)*Z_psi(my_BP.psi))>1e-4:\n",
    "            print(B(r,my_BP.psi)*Z_reg(my_BP.psi))\n",
    "            print(C(r, my_BP.psi)*Z_psi(my_BP.psi))"
   ]
  },
  {
   "cell_type": "markdown",
   "id": "279c34a8",
   "metadata": {},
   "source": [
    "# Checking with symbolic calculation that the relation $B(r)Z_{reg}=C(r)Z_\\phi$ for d=3,4,5,6,7"
   ]
  },
  {
   "cell_type": "markdown",
   "id": "d4dd8731",
   "metadata": {},
   "source": [
    "Ansatz: we have the symmetries\n",
    "- $\\psi_{0,1}\\psi_{1,0}=\\psi_{0,0}\\psi_{1,1}$\n",
    "- $\\psi_{1,0}^{d-1}=\\psi_{1,1}^{d-2}\\psi_{0,1}$\n",
    "\n",
    "Then we have\n",
    "$\\psi_{0,1}=\\frac{\\psi_{1,0}^{d-1}}{\\psi_{1,1}^{d-2}}$\n",
    "and\n",
    "$\\psi_{0,0}=\\frac{\\psi_{0,1}\\psi{1,0}}{\\psi_{1,1}}=\\frac{\\psi_{1,0}^d}{\\psi_{1,1}^{d-1}}$.\n",
    "\n",
    "Of course the specific choice of the symmetries is arbitrary (but there are two in total, plus the normalisation).\n",
    "\n",
    "Below we check if this works until $d=7$."
   ]
  },
  {
   "cell_type": "code",
   "execution_count": 3,
   "id": "afb39fe6",
   "metadata": {},
   "outputs": [],
   "source": [
    "psi_00=sp.symbols('psi_00')\n",
    "psi_01=sp.symbols('psi_01')\n",
    "psi_10=sp.symbols('psi_10')\n",
    "psi_11=sp.symbols('psi_11')\n",
    "psi=[[psi_00,psi_01],[psi_10,psi_11]]"
   ]
  },
  {
   "cell_type": "code",
   "execution_count": 4,
   "id": "5eb48b56",
   "metadata": {},
   "outputs": [],
   "source": [
    "A_0=sp.symbols('A_0')\n",
    "A_1=sp.symbols('A_1')\n",
    "A_2=sp.symbols('A_2')\n",
    "A_3=sp.symbols('A_3')\n",
    "A_4=sp.symbols('A_4')\n",
    "A_5=sp.symbols('A_5')\n",
    "A_6=sp.symbols('A_6')\n",
    "A_7=sp.symbols('A_7')\n",
    "\n",
    "A=[A_0, A_1, A_2, A_3, A_4, A_5, A_6, A_7]\n",
    "d=len(A)-1"
   ]
  },
  {
   "cell_type": "code",
   "execution_count": 5,
   "id": "7fb9c0f4",
   "metadata": {},
   "outputs": [],
   "source": [
    "def B(r, psi):\n",
    "    return psi[0][0]**(d-1-r)*psi[1][0]**r+psi[0][1]**(d-1-r)*psi[1][1]**r\n",
    "def C(r, psi):\n",
    "    sum_r_prime=0\n",
    "    sum_r_double_prime=0\n",
    "    for r_prime in range(d):\n",
    "        binomial=scipy.special.comb(d-1,r_prime, exact=True)\n",
    "        sum_r_prime+=binomial*psi[0][1]**(d-1-r_prime)*psi[1][1]**r_prime\n",
    "        sum_r_double_prime+=binomial*psi[0][0]**(d-1-r_prime)*psi[1][0]**r_prime\n",
    "    return sum_r_prime**r*sum_r_double_prime**(d-1-r)\n",
    "def Z_reg(psi, A):\n",
    "    psi_0=0\n",
    "    psi_1=0\n",
    "    for r in range(d):\n",
    "        binomial=scipy.special.comb(d-1,r, exact=True)\n",
    "        psi_0+=A[r]*binomial*(psi[0][1]+psi[1][1])**((d-1)*r)*(psi[0][0]+psi[1][0])**((d-1)*(d-1-r))\n",
    "        psi_1+=A[r+1]*binomial*(psi[0][1]+psi[1][1])**((d-1)*r)*(psi[0][0]+psi[1][0])**((d-1)*(d-1-r))\n",
    "    return psi_0+psi_1\n",
    "def Z_psi(psi, A):\n",
    "    psi_new=[[0,0],[0,0]]\n",
    "    for r in range(d):\n",
    "        binomial=scipy.special.comb(d-1,r, exact=True)\n",
    "        psi_new[0][0]+=A[r]*binomial*psi[0][0]**(d-1-r)*psi[1][0]**r\n",
    "        psi_new[1][0]+=A[r]*binomial*psi[0][1]**(d-1-r)*psi[1][1]**r\n",
    "        psi_new[0][1]+=A[r+1]*binomial*psi[0][0]**(d-1-r)*psi[1][0]**r\n",
    "        psi_new[1][1]+=A[r+1]*binomial*psi[0][1]**(d-1-r)*psi[1][1]**r\n",
    "    return np.sum(psi_new)"
   ]
  },
  {
   "cell_type": "code",
   "execution_count": 6,
   "id": "798ee488",
   "metadata": {},
   "outputs": [
    {
     "name": "stdout",
     "output_type": "stream",
     "text": [
      "0\n",
      "0\n",
      "0\n",
      "0\n",
      "0\n",
      "0\n",
      "0\n"
     ]
    }
   ],
   "source": [
    "for r in range(d):\n",
    "    f=sp.expand(B(r, psi)*Z_reg(psi, A)).subs(psi_00, psi_10**d/psi_11**(d-1)).subs(psi_01, psi_10**(d-1)/psi_11**(d-2))\n",
    "    s=sp.expand(C(r, psi)*Z_psi(psi, A)).subs(psi_00, psi_10**d/psi_11**(d-1)).subs(psi_01, psi_10**(d-1)/psi_11**(d-2))\n",
    "    print(sp.expand(f-s))"
   ]
  }
 ],
 "metadata": {
  "kernelspec": {
   "display_name": "Python 3",
   "language": "python",
   "name": "python3"
  },
  "language_info": {
   "codemirror_mode": {
    "name": "ipython",
    "version": 3
   },
   "file_extension": ".py",
   "mimetype": "text/x-python",
   "name": "python",
   "nbconvert_exporter": "python",
   "pygments_lexer": "ipython3",
   "version": "3.8.18"
  }
 },
 "nbformat": 4,
 "nbformat_minor": 5
}
