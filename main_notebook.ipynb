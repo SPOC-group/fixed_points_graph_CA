{
 "cells": [
  {
   "cell_type": "markdown",
   "id": "61b7ccbc",
   "metadata": {},
   "source": [
    "In this notebook, the main functionalities of the code written for \"Counting and Hardness-of-Finding Fixed Points in Cellular Automata on Random Graphs\" are presented.\n",
    "\n",
    "For any questions, do not hesitate to contact the authors at cedric.koller@epfl.ch or kollerc98@gmail.com in the case the former adress is no longer in use."
   ]
  },
  {
   "cell_type": "markdown",
   "id": "61173a7b",
   "metadata": {},
   "source": [
    "## Requirements:\n",
    "\n",
    "The belief propagation algorithm (BP) can be executed using only the standard python libraries and numpy. However, computing all the fixed points (see below) can be significantly quicker on a GPU. This was implemented using pytorch. Thus, installing pytorch and configuring the GPU accordingly (see https://pytorch.org/get-started/locally/ for instance) is recommended.\n",
    "\n",
    "The population dynamics algorithm can be executed with the standard python libraries, numpy, matplotlib and scipy. A significanlty quicker and more precise version was implement on the GPU using pytorch. The used conda environment is attached."
   ]
  },
  {
   "cell_type": "markdown",
   "id": "772ddcfc",
   "metadata": {},
   "source": [
    "## Constraint notation"
   ]
  },
  {
   "cell_type": "markdown",
   "id": "65e65a7a",
   "metadata": {},
   "source": [
    "The implementation supports all the possible nearest-neighbors constraints (or rule) with two cell types (occupied or inoccupied) on d-regular graphs. The constraint is given in a list. The first element of the list indicates the constraint when there are 0 occupied neighbors, the second element when there is 1 occupied neighbor, etc. Each element of a list is either '0', '1', '+', '-'. '0' indicates that the node must be unoccupied with the given number of neighbors. '1' indicates that it must be occupied with the given number of neighbors. '+' indicates that there is no constraint for the given number of neighbors, and '-' indicates that the constraint cannot be satisfied for the given number of neighbors."
   ]
  },
  {
   "cell_type": "markdown",
   "id": "4bce8595",
   "metadata": {},
   "source": [
    "As an example, the constraint to have at most $l$ occupied neighbors is written as follows:\n",
    "\n",
    "$$\n",
    "    [\\underbrace{\\overbrace{\\text{'+', ... , '+'}}^l\\text{,'0', ... ,'0'}}_{d+1}]\n",
    "$$"
   ]
  },
  {
   "cell_type": "markdown",
   "id": "faad8c49",
   "metadata": {},
   "source": [
    "# Replica symmetric solution using Belief Propagation"
   ]
  },
  {
   "cell_type": "markdown",
   "id": "df44bac7",
   "metadata": {},
   "source": [
    "In this section, we present how the replica symmetric result is obtained."
   ]
  },
  {
   "cell_type": "markdown",
   "id": "96ba0888",
   "metadata": {},
   "source": [
    "### Instantiating BP"
   ]
  },
  {
   "cell_type": "markdown",
   "id": "becf2be5",
   "metadata": {},
   "source": [
    "All the belief propagation computations are done using the class BP. The only obligatory parameter is the constraint."
   ]
  },
  {
   "cell_type": "code",
   "execution_count": 1,
   "id": "5d340081",
   "metadata": {},
   "outputs": [],
   "source": [
    "# Importing the BP class\n",
    "from src.BP import BP"
   ]
  },
  {
   "cell_type": "code",
   "execution_count": 2,
   "id": "37784fbf",
   "metadata": {},
   "outputs": [],
   "source": [
    "# Instantiating BP\n",
    "my_BP=BP(rule=['+', '+', '0', '0'])"
   ]
  },
  {
   "cell_type": "code",
   "execution_count": 3,
   "id": "a74e0c83",
   "metadata": {},
   "outputs": [
    {
     "data": {
      "text/plain": [
       "Instance of class 'BP'\n",
       "Rule : ['+', '+', '0', '0']\n",
       "μ =  0"
      ]
     },
     "execution_count": 3,
     "metadata": {},
     "output_type": "execute_result"
    }
   ],
   "source": [
    "# Looking at some properties before the run\n",
    "my_BP"
   ]
  },
  {
   "cell_type": "markdown",
   "id": "7b95691b",
   "metadata": {},
   "source": [
    "Multiple optional parameters can be given, below is an example with all of them (with their default values)."
   ]
  },
  {
   "cell_type": "code",
   "execution_count": 4,
   "id": "a04f8d77",
   "metadata": {},
   "outputs": [],
   "source": [
    "my_BP_with_optional_parameters=BP(rule=['+', '+', '0', '0'], mu=0, tol=1e-12, max_iter=10000, max_iter_SP=500, tol_SP=1e-8, damping_parameter=0.8, init_message=None, SP_init='hard', seed=None, device='cuda')"
   ]
  },
  {
   "cell_type": "markdown",
   "id": "9144ecb6",
   "metadata": {},
   "source": [
    "The parameters are:\n",
    "- mu: the chemical potential $\\mu$\n",
    "- tol: the tolerance at which the BP iterations stops\n",
    "- max_iter: the maximum number of iterations before the algorithm stops (if the tolerance was not reached)\n",
    "- max_iter_SP: maximum iteration of the Survey Propagation algorithm (not used in the paper)\n",
    "- tol_SP: the tolerance at which the SP iteration stop (not used in the paper)\n",
    "- damping_parameter: the fraction of damping introduced between each iteration\n",
    "- init_message: the initial message in the format of a $2\\times 2$ numpy array indicating the message. The matrix indexes $ij$ indicate the message that one node is in state $i$ and the other in state $j$. If None is given, each component of the message is initialized uniformly in $[0,1]$ and then normalized.\n",
    "- SP_init: How the survey propagation messages are initialized (not used in the paper)\n",
    "- seed: the seed for the random numbers generators\n",
    "- device: the device used by pytorch. pytorch can do the computation on the cpu (if device='cpu'), but in that case it has no improvement over simply using numpy.\n"
   ]
  },
  {
   "cell_type": "markdown",
   "id": "30918b32",
   "metadata": {},
   "source": [
    "## Running BP"
   ]
  },
  {
   "cell_type": "markdown",
   "id": "9e97b779",
   "metadata": {},
   "source": [
    "Doing one BP iteration is done using the 'step' function (the psi attribute is the current message):"
   ]
  },
  {
   "cell_type": "code",
   "execution_count": 5,
   "id": "6dea398f",
   "metadata": {},
   "outputs": [
    {
     "name": "stdout",
     "output_type": "stream",
     "text": [
      "Message before the step:  [[0.40000468 0.04481883]\n",
      " [0.37003569 0.18514081]]\n",
      "Message after the step:  [[0.41829529 0.13414661]\n",
      " [0.29911247 0.14844562]]\n"
     ]
    }
   ],
   "source": [
    "print('Message before the step: ', my_BP.psi)\n",
    "my_BP.step()\n",
    "print('Message after the step: ', my_BP.psi)"
   ]
  },
  {
   "cell_type": "markdown",
   "id": "06d16da5",
   "metadata": {},
   "source": [
    "A full run can be done as follwing:"
   ]
  },
  {
   "cell_type": "code",
   "execution_count": 6,
   "id": "3dc009aa",
   "metadata": {},
   "outputs": [
    {
     "name": "stdout",
     "output_type": "stream",
     "text": [
      "Convergence reached after  114  iterations !\n"
     ]
    }
   ],
   "source": [
    "for i in range(my_BP.max_iter):\n",
    "    my_BP.step()\n",
    "    if my_BP.diff()<my_BP.tol:\n",
    "        print('Convergence reached after ', i+1, ' iterations !')\n",
    "        break"
   ]
  },
  {
   "cell_type": "markdown",
   "id": "bf108b47",
   "metadata": {},
   "source": [
    "The diff() method computes the Frobenius norm between the previous and current message. Note that current message has dampening applied to it, so the tolerance must be decreased if a high dampening is applied."
   ]
  },
  {
   "cell_type": "markdown",
   "id": "39547491",
   "metadata": {},
   "source": [
    "Note that the message is replaced in the memory, so redoing the computation, convergence will be reached after one iteration:"
   ]
  },
  {
   "cell_type": "code",
   "execution_count": 7,
   "id": "05d175c5",
   "metadata": {},
   "outputs": [
    {
     "name": "stdout",
     "output_type": "stream",
     "text": [
      "Convergence reached after  1  iterations !\n"
     ]
    }
   ],
   "source": [
    "for i in range(my_BP.max_iter):\n",
    "    my_BP.step()\n",
    "    if my_BP.diff()<my_BP.tol:\n",
    "        print('Convergence reached after ', i+1, ' iterations !')\n",
    "        break"
   ]
  },
  {
   "cell_type": "markdown",
   "id": "34e3846a",
   "metadata": {},
   "source": [
    "The observables (free energy density $\\phi$, density $\\rho$ and entropy density $s$) are obtained using"
   ]
  },
  {
   "cell_type": "code",
   "execution_count": 8,
   "id": "2df3371d",
   "metadata": {},
   "outputs": [
    {
     "name": "stdout",
     "output_type": "stream",
     "text": [
      "Free entropy density : 0.5512829976438371\n",
      "Density : 0.3220275990016606\n",
      "Entropy density : 0.5512829976438371\n"
     ]
    }
   ],
   "source": [
    "my_BP.update_observables()\n",
    "print('Free entropy density :', my_BP.phi)\n",
    "print('Density :', my_BP.rho)\n",
    "print('Entropy density :', my_BP.s)"
   ]
  },
  {
   "cell_type": "markdown",
   "id": "e6b2b997",
   "metadata": {},
   "source": [
    "An overview can be obtained by simply printing the object:"
   ]
  },
  {
   "cell_type": "code",
   "execution_count": 9,
   "id": "10ac529d",
   "metadata": {},
   "outputs": [
    {
     "data": {
      "text/plain": [
       "Instance of class 'BP'\n",
       "Rule : ['+', '+', '0', '0']\n",
       "μ =  0\n",
       "φ = 0.5512829976438371\n",
       "ρ = 0.3220275990016606\n",
       "s = 0.5512829976438371"
      ]
     },
     "execution_count": 9,
     "metadata": {},
     "output_type": "execute_result"
    }
   ],
   "source": [
    "my_BP"
   ]
  },
  {
   "cell_type": "markdown",
   "id": "8bf945dc",
   "metadata": {},
   "source": [
    "All this procedure can be simplified by using the 'run' method:"
   ]
  },
  {
   "cell_type": "code",
   "execution_count": 10,
   "id": "ca17c2d0",
   "metadata": {},
   "outputs": [
    {
     "name": "stdout",
     "output_type": "stream",
     "text": [
      "Converged after  102  steps. Final error:  9.22605976796956e-13\n"
     ]
    },
    {
     "data": {
      "text/plain": [
       "Instance of class 'BP'\n",
       "Rule : ['+', '+', '0', '0']\n",
       "μ =  0\n",
       "φ = 0.5512829976438367\n",
       "ρ = 0.3220275990016618\n",
       "s = 0.5512829976438367"
      ]
     },
     "execution_count": 10,
     "metadata": {},
     "output_type": "execute_result"
    }
   ],
   "source": [
    "my_BP=BP(rule=['+','+','0','0'])\n",
    "my_BP.run(verbose=True)\n",
    "my_BP"
   ]
  },
  {
   "cell_type": "markdown",
   "id": "f6019a3b",
   "metadata": {},
   "source": [
    "The marginals are obtained using the 'marginals' function:"
   ]
  },
  {
   "cell_type": "code",
   "execution_count": 11,
   "id": "8f084c2b",
   "metadata": {},
   "outputs": [
    {
     "data": {
      "text/plain": [
       "array([[0.41241702, 0.26555538],\n",
       "       [0.26555538, 0.05647222]])"
      ]
     },
     "execution_count": 11,
     "metadata": {},
     "output_type": "execute_result"
    }
   ],
   "source": [
    "my_BP.marginals()"
   ]
  },
  {
   "cell_type": "markdown",
   "id": "a7f1442e",
   "metadata": {},
   "source": [
    "## An example from $\\textit{Glass models on Bethe lattices}$"
   ]
  },
  {
   "cell_type": "markdown",
   "id": "acf7686d",
   "metadata": {},
   "source": [
    "One possibility to reproduce figure 2 from $\\textit{Glass models on Bethe lattices}$ (Rivoire et al, 2003) is"
   ]
  },
  {
   "cell_type": "code",
   "execution_count": 12,
   "id": "8c96dbbb",
   "metadata": {},
   "outputs": [
    {
     "data": {
      "image/png": "[encoded data removed]",
      "text/plain": [
       "<Figure size 432x288 with 1 Axes>"
      ]
     },
     "metadata": {
      "needs_background": "light"
     },
     "output_type": "display_data"
    }
   ],
   "source": [
    "import numpy as np\n",
    "import matplotlib.pyplot as plt\n",
    "\n",
    "mu_list=np.linspace(-6,12,50)\n",
    "s_list=[]\n",
    "rho_list=[]\n",
    "my_BP=BP(rule=['+','+','0','0'])\n",
    "\n",
    "for mu in mu_list:\n",
    "    my_BP.mu=mu\n",
    "    my_BP.run()\n",
    "    s_list.append(my_BP.s)\n",
    "    rho_list.append(my_BP.rho)\n",
    "\n",
    "# Plotting:\n",
    "fig, ax=plt.subplots()\n",
    "ax.plot(mu_list, s_list, label='Entropy density')\n",
    "ax.plot(mu_list, rho_list, label='Particles density')\n",
    "ax.legend()\n",
    "ax.set_xlabel('$\\mu$')\n",
    "ax.grid();"
   ]
  },
  {
   "cell_type": "markdown",
   "id": "aad1eb99",
   "metadata": {},
   "source": [
    "## Grid search to find multiple fixed points"
   ]
  },
  {
   "cell_type": "markdown",
   "id": "5be1c0c7",
   "metadata": {},
   "source": [
    "Doing a grid search to obtained multiple different fixed points can be done as follows"
   ]
  },
  {
   "cell_type": "code",
   "execution_count": 13,
   "id": "35c8a008",
   "metadata": {},
   "outputs": [],
   "source": [
    "my_BP=BP(rule=['0','0','+','0'])\n",
    "my_BP.find_all_fixed_points(grid_discretisation=20) # here each component of the message will take value 0, 0.05, 0.1, ..., 1"
   ]
  },
  {
   "cell_type": "markdown",
   "id": "2d8ec8c0",
   "metadata": {},
   "source": [
    "The fixed points and some of its properties can be obtained using"
   ]
  },
  {
   "cell_type": "code",
   "execution_count": 14,
   "id": "9d7878ab",
   "metadata": {},
   "outputs": [
    {
     "name": "stdout",
     "output_type": "stream",
     "text": [
      "Fixed points:\n",
      "  [[[3.00806768e-01 3.00806768e-01]\n",
      "  [1.24598243e-01 2.73788220e-01]]\n",
      "\n",
      " [[5.00000000e-01 5.00000000e-01]\n",
      "  [2.28122031e-21 0.00000000e+00]]]\n",
      "\n",
      "Free entropy density of the fixed points [0.2045757755688038, 0.0]\n"
     ]
    }
   ],
   "source": [
    "print('Fixed points:\\n ',my_BP.fixed_points)\n",
    "print('\\nFree entropy density of the fixed points', my_BP.all_phi)"
   ]
  },
  {
   "cell_type": "markdown",
   "id": "2e2a86fe",
   "metadata": {},
   "source": [
    "The 'default' fixed point is the one with the largest free entropy."
   ]
  },
  {
   "cell_type": "markdown",
   "id": "a717974c",
   "metadata": {},
   "source": [
    "For 'grid_discretisation' larger that ~40, it is more computationnaly effective to do the computation on a GPU using pytorch. To do so use"
   ]
  },
  {
   "cell_type": "code",
   "execution_count": 15,
   "id": "18e3979f",
   "metadata": {},
   "outputs": [
    {
     "name": "stderr",
     "output_type": "stream",
     "text": [
      "/home/ckoller/anaconda3/envs/cedric_env/lib/python3.8/site-packages/torch/__init__.py:614: UserWarning: torch.set_default_tensor_type() is deprecated as of PyTorch 2.1, please use torch.set_default_dtype() and torch.set_default_device() as alternatives. (Triggered internally at /opt/conda/conda-bld/pytorch_1695392036766/work/torch/csrc/tensor/python_tensor.cpp:451.)\n",
      "  _C._set_default_tensor_type(t)\n"
     ]
    },
    {
     "name": "stdout",
     "output_type": "stream",
     "text": [
      "Convergence reached for each starting initialisation after  240  steps !\n",
      "Max error:  9.303691220347186e-13\n"
     ]
    }
   ],
   "source": [
    "my_BP.find_all_fixed_points_torch(grid_discretisation=100, verbose=True)"
   ]
  },
  {
   "cell_type": "markdown",
   "id": "a69dee0d",
   "metadata": {},
   "source": [
    "### Saving and loading the results"
   ]
  },
  {
   "cell_type": "markdown",
   "id": "2d7cdefd",
   "metadata": {},
   "source": [
    "The results can be saved as follows (as default in the results/[rule]/BP/ folder)"
   ]
  },
  {
   "cell_type": "code",
   "execution_count": 16,
   "id": "b32d0ea2",
   "metadata": {},
   "outputs": [],
   "source": [
    "# my_BP.save()"
   ]
  },
  {
   "cell_type": "markdown",
   "id": "e9e7c7df",
   "metadata": {},
   "source": [
    "The results can be loaded as follows"
   ]
  },
  {
   "cell_type": "code",
   "execution_count": 17,
   "id": "027adfe2",
   "metadata": {},
   "outputs": [
    {
     "name": "stdout",
     "output_type": "stream",
     "text": [
      "Before loading : \n",
      " Instance of class 'BP'\n",
      "Rule : ['0', '0', '+', '0']\n",
      "μ =  0\n",
      "After loading : \n",
      " Instance of class 'BP'\n",
      "Rule : ['0', '0', '+', '0']\n",
      "μ =  0\n",
      "φ = 0.20457577556880358\n",
      "ρ = 0.4677112744730745\n",
      "s = 0.20457577556880358\n",
      "Stability noisy fixed point in population dynamics: True\n",
      "Linear susceptibility stability: True\n",
      "Non-linear susceptibility stability: True\n",
      "φ SP: 0.2045757755687988\n",
      "Stability SP: False\n",
      "φ SP noisy: -4.930380657631324e-32\n"
     ]
    }
   ],
   "source": [
    "my_BP=BP(rule=['0','0','+','0'])\n",
    "print('Before loading : \\n', my_BP)\n",
    "my_BP.load()\n",
    "print('After loading : \\n',my_BP)"
   ]
  },
  {
   "cell_type": "markdown",
   "id": "aee5d6ac",
   "metadata": {},
   "source": [
    "# Population dynamics"
   ]
  },
  {
   "cell_type": "markdown",
   "id": "4fa2d810",
   "metadata": {},
   "source": [
    "## Instantiating population dynamics"
   ]
  },
  {
   "cell_type": "markdown",
   "id": "d8846f3b",
   "metadata": {},
   "source": [
    "Population dynamics is done using the 'population_dynamics' class. This class is deprecated compared to the 'population_dynamics_torch' running with torch used below, but allows for simulations using only numpy.\n",
    "\n",
    "As before, the only required parameter is the constraint:"
   ]
  },
  {
   "cell_type": "code",
   "execution_count": 18,
   "id": "7c264d7a",
   "metadata": {},
   "outputs": [],
   "source": [
    "from src.population_dynamics import population_dynamics"
   ]
  },
  {
   "cell_type": "code",
   "execution_count": 19,
   "id": "df5e1e47",
   "metadata": {},
   "outputs": [
    {
     "data": {
      "text/plain": [
       "Instance of class 'population_dynamics'\n",
       "Rule : ['+', '+', '0', '0']\n",
       "μ =  0\n",
       "Population size: 10000"
      ]
     },
     "execution_count": 19,
     "metadata": {},
     "output_type": "execute_result"
    }
   ],
   "source": [
    "my_pop=population_dynamics(rule=['+','+','0','0'])\n",
    "my_pop"
   ]
  },
  {
   "cell_type": "markdown",
   "id": "d2c141f1",
   "metadata": {},
   "source": [
    "All the possible optional parameters are:\n",
    "- m: the Parisi parameter\n",
    "- mu: the chemical potential $\\mu$\n",
    "- M: the size of the population\n",
    "- num_samples: the number of samples used to compute the observables\n",
    "- damping_parameter: the fraction of the population updated each iteration\n",
    "- hard_fields: if True, the population is initialized on random hard fields, otherwise the population is initialized uniformly at random (and normalized)\n",
    "- planted_messages: if not None, a fraction of the population will be initialized with the given message\n",
    "- fraction_planted_messages: the fraction of the planted messages if 'planted_messages' is not None\n",
    "- noise: the standard deviation of the gaussian noise applied to the planted messages. The default is 0 (no noise)\n",
    "- impose_symmetry: if True, the unoccupied <-> occupied symmetry is enforced (default: False)\n",
    "- max_iter: the maximum number of iterations\n",
    "- tol: the tolerance before the iterations stop\n",
    "- convergence_check_interval: the number of iterations between each convergence check\n",
    "- sampling_threshold: the number of iterations before the sampling of the observables begins. The sampling will always do max_iter-sampling_threshold iterations.\n",
    "- sampling_interval: the number of iterations between each sampling of the obersvables\n",
    "- m_list: an array or list of the Parisi parameters to check for the complexity curves\n",
    "- seed: the seed for the random number generator for reproductibility\n",
    "    "
   ]
  },
  {
   "cell_type": "markdown",
   "id": "aebfa514",
   "metadata": {},
   "source": [
    "### Running the population dynamics"
   ]
  },
  {
   "cell_type": "markdown",
   "id": "df94f64e",
   "metadata": {},
   "source": [
    "The population dynamics can be run as follows:"
   ]
  },
  {
   "cell_type": "code",
   "execution_count": 20,
   "id": "28b75744",
   "metadata": {},
   "outputs": [
    {
     "name": "stdout",
     "output_type": "stream",
     "text": [
      "Difference after  1 iterations :  623.9999999999995\n",
      "Difference after  201 iterations :  0.0\n",
      "Early stopping ! Convergence of  10 reached after  201 iterations.\n"
     ]
    }
   ],
   "source": [
    "for i in range(my_pop.max_iter):\n",
    "    my_pop.step()\n",
    "    if i%my_pop.convergence_check_interval==0:\n",
    "        diff=my_pop.diff()\n",
    "        print('Difference after ', i+1, 'iterations : ', diff)\n",
    "        if diff<my_pop.tol:\n",
    "            print('Early stopping ! Convergence of ', my_pop.tol, 'reached after ', i+1, 'iterations.')\n",
    "            break"
   ]
  },
  {
   "cell_type": "markdown",
   "id": "491e2278",
   "metadata": {},
   "source": [
    "The 'diff' method computes the absolute difference between the histrograms of the population. This is relatively costly so not done at every iteration (see the 'convergence_check_interval' parameter). Note that as before the damping parameter plays a role in choosing the tolerance. However, the population size also plays a role since no normalization is done on the distribution to avoid additional computational costs, so the larger the population, the larger the tolerance should also be."
   ]
  },
  {
   "cell_type": "markdown",
   "id": "c056ba6f",
   "metadata": {},
   "source": [
    "The message distribution can be visualized using"
   ]
  },
  {
   "cell_type": "code",
   "execution_count": 21,
   "id": "947e1148",
   "metadata": {},
   "outputs": [
    {
     "data": {
      "image/png": "[encoded data removed]",
      "text/plain": [
       "<Figure size 432x288 with 4 Axes>"
      ]
     },
     "metadata": {
      "needs_background": "light"
     },
     "output_type": "display_data"
    }
   ],
   "source": [
    "my_pop.draw_population()"
   ]
  },
  {
   "cell_type": "markdown",
   "id": "0cf7dd05",
   "metadata": {},
   "source": [
    "In this case, the messages are peaked: we are in the RS phase and obtain the same results as BP."
   ]
  },
  {
   "cell_type": "markdown",
   "id": "ccf0f5e7",
   "metadata": {},
   "source": [
    "The observables are sampled using"
   ]
  },
  {
   "cell_type": "code",
   "execution_count": 22,
   "id": "f1851bbe",
   "metadata": {},
   "outputs": [
    {
     "name": "stdout",
     "output_type": "stream",
     "text": [
      "Replicated free entropy density : 0.5512829976401024\n",
      "Cluster free entropy density : 0.5512829976401021\n",
      "Complexity : 2.220446049250313e-16\n",
      "Density : 0.3220275990254812\n",
      "Entropy density:  0.5512829976401021\n"
     ]
    }
   ],
   "source": [
    "my_pop.update_observables()\n",
    "print('Replicated free entropy density :', my_pop.psi)\n",
    "print('Cluster free entropy density :', my_pop.phi)\n",
    "print('Complexity :', my_pop.complexity)\n",
    "print('Density :', my_pop.rho)\n",
    "print('Entropy density: ', my_pop.s)"
   ]
  },
  {
   "cell_type": "markdown",
   "id": "d390f414",
   "metadata": {},
   "source": [
    "In the interesting cases (d1RSB and s1RSB phases), the population is however not peaked on the BP fixed point. To avoid the problem of fluctuating populations, we sample the observables multiple times (this is done with the parameters indicated above). All this is encompassed in the 'run' method. As an example take again $\\textit{Glass models on Bethe lattices}$ (https://arxiv.org/pdf/cond-mat/0307569.pdf) where a RSB breaking appears from $\\mu\\approx 6.4$:"
   ]
  },
  {
   "cell_type": "code",
   "execution_count": 23,
   "id": "f75eb82b",
   "metadata": {},
   "outputs": [
    {
     "name": "stdout",
     "output_type": "stream",
     "text": [
      "Early stopping ! Convergence of  10 reached after  3001 iterations.\n",
      "Finished ! Final difference:  0.0\n"
     ]
    }
   ],
   "source": [
    "my_pop=population_dynamics(rule=['+','+','0','0'], mu=6.5)\n",
    "my_pop.run(verbose=1)"
   ]
  },
  {
   "cell_type": "markdown",
   "id": "c32cf1bd",
   "metadata": {},
   "source": [
    "The observables can then be obtained from"
   ]
  },
  {
   "cell_type": "code",
   "execution_count": 24,
   "id": "3d7081c3",
   "metadata": {},
   "outputs": [
    {
     "name": "stdout",
     "output_type": "stream",
     "text": [
      "Replicated free entropy density : 3.7583393765418442\n",
      "Cluster free entropy density : 3.758339376566843\n",
      "Complexity : -2.4998669800879725e-11\n",
      "Density : 0.5708156335308306\n",
      "Entropy density:  0.04803775861644377\n"
     ]
    }
   ],
   "source": [
    "print('Replicated free entropy density :', my_pop.psi_mean)\n",
    "print('Cluster free entropy density :', my_pop.phi_mean)\n",
    "print('Complexity :', my_pop.complexity_mean)\n",
    "print('Density :', my_pop.rho_mean)\n",
    "print('Entropy density: ', my_pop.s_mean)"
   ]
  },
  {
   "cell_type": "markdown",
   "id": "fd4b20f1",
   "metadata": {},
   "source": [
    "An overview is given by"
   ]
  },
  {
   "cell_type": "code",
   "execution_count": 25,
   "id": "ba79826d",
   "metadata": {},
   "outputs": [
    {
     "data": {
      "text/plain": [
       "Instance of class 'population_dynamics'\n",
       "Rule : ['+', '+', '0', '0']\n",
       "μ =  6.5\n",
       "Population size: 10000\n",
       "φ = 3.758339376566843 +/- 0.0\n",
       "Σ = -2.4998669800879725e-11 +/- 0.0\n",
       "Ψ = 3.7583393765418442 +/- 0.0\n",
       "ρ = 0.5708156335308306 +/- 0.0\n",
       "s = 0.04803775861644377 +/- 0.0"
      ]
     },
     "execution_count": 25,
     "metadata": {},
     "output_type": "execute_result"
    }
   ],
   "source": [
    "my_pop"
   ]
  },
  {
   "cell_type": "markdown",
   "id": "edd9f47b",
   "metadata": {},
   "source": [
    "This is a dynamical RSB, indeed the obtained value are the same (within the error margins) as BP:"
   ]
  },
  {
   "cell_type": "code",
   "execution_count": 26,
   "id": "31a6f7b2",
   "metadata": {},
   "outputs": [
    {
     "data": {
      "text/plain": [
       "Instance of class 'BP'\n",
       "Rule : ['+', '+', '0', '0']\n",
       "μ =  6.5\n",
       "φ = 3.758339390427073\n",
       "ρ = 0.5708155849739798\n",
       "s = 0.04803808809620458"
      ]
     },
     "execution_count": 26,
     "metadata": {},
     "output_type": "execute_result"
    }
   ],
   "source": [
    "my_BP=BP(rule=['+','+','0','0'], mu=6.5)\n",
    "my_BP.run()\n",
    "my_BP"
   ]
  },
  {
   "cell_type": "markdown",
   "id": "c98e7f52",
   "metadata": {},
   "source": [
    "However, the population is  not trivial anymore:"
   ]
  },
  {
   "cell_type": "code",
   "execution_count": 27,
   "id": "cdb47772",
   "metadata": {},
   "outputs": [
    {
     "data": {
      "image/png": "[encoded data removed]",
      "text/plain": [
       "<Figure size 432x288 with 4 Axes>"
      ]
     },
     "metadata": {
      "needs_background": "light"
     },
     "output_type": "display_data"
    }
   ],
   "source": [
    "my_pop.draw_population()"
   ]
  },
  {
   "cell_type": "markdown",
   "id": "2b1cdcb0",
   "metadata": {},
   "source": [
    "### Static one-step replica symmetry breaking (s1RSB)"
   ]
  },
  {
   "cell_type": "markdown",
   "id": "98a97095",
   "metadata": {},
   "source": [
    "In the s1RSB case, the complexity curves must be computed to obtain the correct observables. This can be done using the 'compute_complexity_curves' function. One example where this happens is for $\\mu>7$. Since there is a lot of noise, the population is increased. To avoid too long computation times, we use the class 'population_dynamics_torch' instead, which is the pytorch implementation of the 'population_dynamics' class."
   ]
  },
  {
   "cell_type": "code",
   "execution_count": 28,
   "id": "c167439c",
   "metadata": {},
   "outputs": [],
   "source": [
    "from src.population_dynamics_torch import population_dynamics_torch"
   ]
  },
  {
   "cell_type": "code",
   "execution_count": 30,
   "id": "ceaa0a02",
   "metadata": {},
   "outputs": [
    {
     "name": "stdout",
     "output_type": "stream",
     "text": [
      "========== m =  1e-05  ==========\n",
      "Finished ! Final difference:  39.068\n",
      "========== m =  0.03449241379310345  ==========\n",
      "Finished ! Final difference:  36.218\n",
      "========== m =  0.06897482758620689  ==========\n",
      "Finished ! Final difference:  36.854\n",
      "========== m =  0.10345724137931034  ==========\n",
      "Finished ! Final difference:  34.796\n",
      "========== m =  0.1379396551724138  ==========\n",
      "Finished ! Final difference:  33.118\n",
      "========== m =  0.17242206896551726  ==========\n",
      "Finished ! Final difference:  32.2\n",
      "========== m =  0.2069044827586207  ==========\n",
      "Finished ! Final difference:  32.294000000000004\n",
      "========== m =  0.24138689655172413  ==========\n",
      "Finished ! Final difference:  29.228\n",
      "========== m =  0.2758693103448276  ==========\n",
      "Finished ! Final difference:  28.88\n",
      "========== m =  0.31035172413793105  ==========\n",
      "Finished ! Final difference:  29.262\n",
      "========== m =  0.3448341379310345  ==========\n",
      "Finished ! Final difference:  27.116\n",
      "========== m =  0.3793165517241379  ==========\n",
      "Finished ! Final difference:  26.72\n",
      "========== m =  0.4137989655172414  ==========\n",
      "Finished ! Final difference:  25.406\n",
      "========== m =  0.44828137931034484  ==========\n",
      "Finished ! Final difference:  24.988\n",
      "========== m =  0.48276379310344825  ==========\n",
      "Finished ! Final difference:  29.072\n",
      "========== m =  0.5172462068965517  ==========\n",
      "Finished ! Final difference:  21.358\n",
      "========== m =  0.5517286206896551  ==========\n",
      "Finished ! Final difference:  13.776\n",
      "========== m =  0.5862110344827586  ==========\n",
      "Finished ! Final difference:  13.364\n",
      "========== m =  0.620693448275862  ==========\n",
      "Finished ! Final difference:  14.23\n",
      "========== m =  0.6551758620689655  ==========\n",
      "Finished ! Final difference:  11.064\n",
      "========== m =  0.689658275862069  ==========\n",
      "Finished ! Final difference:  5.53\n",
      "========== m =  0.7241406896551723  ==========\n",
      "Finished ! Final difference:  12.918000000000001\n",
      "========== m =  0.7586231034482758  ==========\n",
      "Finished ! Final difference:  11.448\n",
      "========== m =  0.7931055172413792  ==========\n",
      "Finished ! Final difference:  8.374\n",
      "========== m =  0.8275879310344827  ==========\n",
      "Finished ! Final difference:  17.37\n",
      "========== m =  0.8620703448275862  ==========\n",
      "Finished ! Final difference:  12.43\n",
      "========== m =  0.8965527586206896  ==========\n",
      "Finished ! Final difference:  11.618\n",
      "========== m =  0.9310351724137931  ==========\n",
      "Finished ! Final difference:  26.740000000000002\n",
      "========== m =  0.9655175862068964  ==========\n",
      "Finished ! Final difference:  26.91\n",
      "========== m =  1.0  ==========\n",
      "Finished ! Final difference:  29.86\n"
     ]
    },
    {
     "name": "stderr",
     "output_type": "stream",
     "text": [
      "/home/ckoller/anaconda3/envs/cedric_env/lib/python3.8/site-packages/scipy/optimize/_minpack_py.py:906: OptimizeWarning: Covariance of the parameters could not be estimated\n",
      "  warnings.warn('Covariance of the parameters could not be estimated',\n"
     ]
    }
   ],
   "source": [
    "my_pop=population_dynamics_torch(rule=['+','+','0','0'], mu=15, M=1000000, num_samples=100000000)\n",
    "my_pop.compute_complexity_curves(verbose=2)"
   ]
  },
  {
   "cell_type": "markdown",
   "id": "6366ce45",
   "metadata": {},
   "source": [
    "The obtained curves can be plotted as follows"
   ]
  },
  {
   "cell_type": "code",
   "execution_count": 31,
   "id": "320b3428",
   "metadata": {},
   "outputs": [
    {
     "data": {
      "image/png": "[encoded data removed]",
      "text/plain": [
       "<Figure size 432x288 with 1 Axes>"
      ]
     },
     "metadata": {
      "needs_background": "light"
     },
     "output_type": "display_data"
    }
   ],
   "source": [
    "my_pop.draw_sigma_phi()"
   ]
  },
  {
   "cell_type": "markdown",
   "id": "0738465b",
   "metadata": {},
   "source": [
    "The intersection with $\\Sigma=0$ gives the correct observables, which are stored as"
   ]
  },
  {
   "cell_type": "code",
   "execution_count": 32,
   "id": "1553acae",
   "metadata": {},
   "outputs": [
    {
     "name": "stdout",
     "output_type": "stream",
     "text": [
      "8.645671713641882\n",
      "0.5756356557863239\n"
     ]
    }
   ],
   "source": [
    "print(my_pop.phi_s)\n",
    "print(my_pop.rho_s)"
   ]
  },
  {
   "cell_type": "markdown",
   "id": "529c38a3",
   "metadata": {},
   "source": [
    "Computing the same using only the CPU (with a lower population) is not enough to draw the figure, but the obtained $\\rho_s$ is still relatively close."
   ]
  },
  {
   "cell_type": "code",
   "execution_count": 33,
   "id": "0028b646",
   "metadata": {},
   "outputs": [
    {
     "name": "stdout",
     "output_type": "stream",
     "text": [
      "========== m =  1e-05  ==========\n",
      "Finished ! Final difference:  353.19999999999993\n",
      "========== m =  0.03449241379310345  ==========\n",
      "Finished ! Final difference:  338.20000000000005\n",
      "========== m =  0.06897482758620689  ==========\n",
      "Finished ! Final difference:  320.3999999999999\n",
      "========== m =  0.10345724137931034  ==========\n",
      "Finished ! Final difference:  310.79999999999984\n",
      "========== m =  0.1379396551724138  ==========\n",
      "Finished ! Final difference:  276.4\n",
      "========== m =  0.17242206896551726  ==========\n",
      "Finished ! Final difference:  302.8000000000001\n",
      "========== m =  0.2069044827586207  ==========\n",
      "Finished ! Final difference:  271.1999999999998\n",
      "========== m =  0.24138689655172413  ==========\n",
      "Finished ! Final difference:  245.39999999999986\n",
      "========== m =  0.2758693103448276  ==========\n",
      "Finished ! Final difference:  204.59999999999985\n",
      "========== m =  0.31035172413793105  ==========\n",
      "Finished ! Final difference:  201.19999999999993\n",
      "========== m =  0.3448341379310345  ==========\n",
      "Finished ! Final difference:  233.19999999999993\n",
      "========== m =  0.3793165517241379  ==========\n",
      "Finished ! Final difference:  151.80000000000004\n",
      "========== m =  0.4137989655172414  ==========\n",
      "Finished ! Final difference:  137.19999999999982\n",
      "========== m =  0.44828137931034484  ==========\n",
      "Finished ! Final difference:  100.19999999999999\n",
      "========== m =  0.48276379310344825  ==========\n",
      "Finished ! Final difference:  89.8000000000002\n",
      "========== m =  0.5172462068965517  ==========\n",
      "Finished ! Final difference:  75.59999999999997\n",
      "========== m =  0.5517286206896551  ==========\n",
      "Finished ! Final difference:  62.19999999999997\n",
      "========== m =  0.5862110344827586  ==========\n",
      "Finished ! Final difference:  87.59999999999971\n",
      "========== m =  0.620693448275862  ==========\n",
      "Finished ! Final difference:  170.79999999999995\n",
      "========== m =  0.6551758620689655  ==========\n",
      "Finished ! Final difference:  97.40000000000016\n",
      "========== m =  0.689658275862069  ==========\n",
      "Finished ! Final difference:  98.99999999999993\n",
      "========== m =  0.7241406896551723  ==========\n",
      "Finished ! Final difference:  80.7999999999998\n",
      "========== m =  0.7586231034482758  ==========\n",
      "Finished ! Final difference:  34.00000000000009\n",
      "========== m =  0.7931055172413792  ==========\n",
      "Finished ! Final difference:  94.59999999999988\n",
      "========== m =  0.8275879310344827  ==========\n",
      "Finished ! Final difference:  173.19999999999985\n",
      "========== m =  0.8620703448275862  ==========\n",
      "Finished ! Final difference:  69.39999999999984\n",
      "========== m =  0.8965527586206896  ==========\n",
      "Finished ! Final difference:  126.60000000000012\n",
      "========== m =  0.9310351724137931  ==========\n",
      "Finished ! Final difference:  1114.9999999999993\n",
      "========== m =  0.9655175862068964  ==========\n",
      "Finished ! Final difference:  143.2000000000002\n",
      "========== m =  1.0  ==========\n",
      "Finished ! Final difference:  106.59999999999975\n"
     ]
    }
   ],
   "source": [
    "my_pop_no_torch=population_dynamics(rule=['+','+','0','0'], mu=15)\n",
    "my_pop_no_torch.compute_complexity_curves(verbose=2)"
   ]
  },
  {
   "cell_type": "code",
   "execution_count": 34,
   "id": "231ea45f",
   "metadata": {},
   "outputs": [
    {
     "data": {
      "text/plain": [
       "0.5708151426747321"
      ]
     },
     "execution_count": 34,
     "metadata": {},
     "output_type": "execute_result"
    }
   ],
   "source": [
    "my_pop_no_torch.rho_s"
   ]
  },
  {
   "cell_type": "markdown",
   "id": "b776617b",
   "metadata": {},
   "source": [
    "### Saving and loading the results"
   ]
  },
  {
   "cell_type": "markdown",
   "id": "944098f9",
   "metadata": {},
   "source": [
    "The results can be saved as follows:"
   ]
  },
  {
   "cell_type": "code",
   "execution_count": 35,
   "id": "77f29473",
   "metadata": {},
   "outputs": [],
   "source": [
    "# my_pop.save()"
   ]
  },
  {
   "cell_type": "markdown",
   "id": "95643ecb",
   "metadata": {},
   "source": [
    "By default, the population is not saved since the file can be very large. To save it use"
   ]
  },
  {
   "cell_type": "code",
   "execution_count": 36,
   "id": "81d0114c",
   "metadata": {},
   "outputs": [],
   "source": [
    "# my_pop.save(save_population=True)"
   ]
  },
  {
   "cell_type": "markdown",
   "id": "714a0c8c",
   "metadata": {},
   "source": [
    "To load the results use"
   ]
  },
  {
   "cell_type": "code",
   "execution_count": 37,
   "id": "4e6b80f2",
   "metadata": {},
   "outputs": [
    {
     "name": "stdout",
     "output_type": "stream",
     "text": [
      "Before loading:\n",
      " Instance of class 'population_dynamics'\n",
      "Rule : ['+', '+', '0', '0']\n",
      "μ =  15\n",
      "Population size: 10000\n",
      "\n",
      "After loading:\n",
      " Instance of class 'population_dynamics'\n",
      "Rule : ['+', '+', '0', '0']\n",
      "μ =  15\n",
      "Population size: 2000000\n",
      "φ_s = 8.64502705763202\n",
      "ρ_s = 0.5755851487081518\n"
     ]
    }
   ],
   "source": [
    "my_pop=population_dynamics(rule=['+','+','0','0'], mu=15)\n",
    "print('Before loading:\\n', my_pop)\n",
    "my_pop.load()\n",
    "print('\\nAfter loading:\\n', my_pop)"
   ]
  },
  {
   "cell_type": "markdown",
   "id": "f9936abb",
   "metadata": {},
   "source": [
    "To also load the population use"
   ]
  },
  {
   "cell_type": "code",
   "execution_count": 38,
   "id": "114c8595",
   "metadata": {},
   "outputs": [],
   "source": [
    "# my_pop.load(load_population=True)"
   ]
  },
  {
   "cell_type": "markdown",
   "id": "08e1c3f9",
   "metadata": {},
   "source": [
    "Note: the populations were not uploaded on github due to their significant size."
   ]
  },
  {
   "cell_type": "markdown",
   "id": "59d64ca4",
   "metadata": {},
   "source": [
    "# Belief propagation on a given graph, Belief propagation reinforcement and local entropy"
   ]
  },
  {
   "cell_type": "markdown",
   "id": "de8ba2c5",
   "metadata": {},
   "source": [
    "Belief propagation, belief propagation reinforcement and the computation of the local entropy is done within the class \"graph_BP_regular_torch\". The version using only numpy is not provided here and is deprecated, if interested the reader can contact the authors."
   ]
  },
  {
   "cell_type": "code",
   "execution_count": 39,
   "id": "6f7604e2",
   "metadata": {},
   "outputs": [],
   "source": [
    "from src.graph_BP_regular_torch import *"
   ]
  },
  {
   "cell_type": "code",
   "execution_count": 40,
   "id": "0b4d00a5",
   "metadata": {},
   "outputs": [],
   "source": [
    "BP_given_graph=graph_BP_regular_torch(rule=['+','+','0','0'], edges=None, N=50, mu=0, kappa=0, tol=1e-12, max_iter=10000, damping_parameter=0.8, init_messages=None, hard_fields=False, pi=0.25, gamma=0.1, seed=None, device='cuda')"
   ]
  },
  {
   "cell_type": "markdown",
   "id": "1504dd8e",
   "metadata": {},
   "source": [
    "As before, the only necessary parameter is the rule. The rest of the parameters are\n",
    "- edges: a list of edges for the desired graph (the graph must be regular). If None is given, a random-d regular graph of N nodes is generated using a modified function of Networkx. Warning: generation for graphs above $N\\approx 50000$ is slow.\n",
    "- N: the number of nodes of the graph\n",
    "- mu: the chemical potential\n",
    "- kappa: The Lagrange parameter for the local entropy calculation\n",
    "- tol: the tolerance for the BP iterations and for the BP calcuation of the local entropy\n",
    "- max_iter: The maximal number of iterations for the BP, BP reinforcement and BP for local entropy algorithms.\n",
    "- damping parameter: the damping parameter (the same damping is used in the 3 algorithms)\n",
    "- init_messages: the intialisation of the messages. If None is given the initialisation is at random or on hard_fields (see following parameter)\n",
    "- hard_fields: True: initialized on hard fields, False: initialized at random as in the previous BP algorithm\n",
    "- pi: the hyperparameter $pi$ in the BP reinforcement algorithm\n",
    "- gamma: the hyperparameter $\\gamma$ in the BP reinforcement algorithm\n",
    "- seed: random seed\n",
    "- device: device used by pytorch"
   ]
  },
  {
   "cell_type": "markdown",
   "id": "60ab258e",
   "metadata": {},
   "source": [
    "## Belief propagation on a given graph"
   ]
  },
  {
   "cell_type": "markdown",
   "id": "107aa4ac",
   "metadata": {},
   "source": [
    "To run BP, use"
   ]
  },
  {
   "cell_type": "code",
   "execution_count": 41,
   "id": "f8f393bd",
   "metadata": {},
   "outputs": [
    {
     "data": {
      "text/plain": [
       "Instance of class 'graph_BP_regular_torch'\n",
       "Rule : ['+', '+', '0', '0']\n",
       "N = 50\n",
       "μ =  0\n",
       "φ = 0.5512829976438374\n",
       "ρ = 0.3220275990016607\n",
       "s = 0.5512829976438374\n",
       "\n",
       "Fraction hard fields : 0.0\n",
       "Fraction i frozen : 0.0\n",
       "Fraction at least one config forbidden : 0.0"
      ]
     },
     "execution_count": 41,
     "metadata": {},
     "output_type": "execute_result"
    }
   ],
   "source": [
    "BP_given_graph.run()\n",
    "BP_given_graph"
   ]
  },
  {
   "cell_type": "markdown",
   "id": "367dcd90",
   "metadata": {},
   "source": [
    "## Belief propagation reinforcement"
   ]
  },
  {
   "cell_type": "markdown",
   "id": "7ebeab7c",
   "metadata": {},
   "source": [
    "To run belief propagation reinforcement, use"
   ]
  },
  {
   "cell_type": "code",
   "execution_count": 42,
   "id": "65c04503",
   "metadata": {},
   "outputs": [
    {
     "name": "stdout",
     "output_type": "stream",
     "text": [
      "=========== Starting BP reinforcement for rule ['+', '+', '0', '0'] with pi =  0.25  ===========\n",
      "# iter:  0   ||    # mistakes:  8   ||   BP convergence:  0.07862111643998063\n",
      "Solution found after  9  iterations !\n"
     ]
    },
    {
     "data": {
      "text/plain": [
       "(tensor([False,  True, False, False, False,  True,  True, False,  True, False,\n",
       "          True, False, False,  True, False, False, False, False, False, False,\n",
       "         False, False, False, False, False, False, False, False, False, False,\n",
       "         False, False, False, False,  True, False, False,  True, False, False,\n",
       "         False, False, False, False, False,  True, False,  True, False, False]),\n",
       " True,\n",
       " 8)"
      ]
     },
     "execution_count": 42,
     "metadata": {},
     "output_type": "execute_result"
    }
   ],
   "source": [
    "BP_given_graph.reinforced_BP(verbose=2)"
   ]
  },
  {
   "cell_type": "markdown",
   "id": "31eb1919",
   "metadata": {},
   "source": [
    "## Local entropy"
   ]
  },
  {
   "cell_type": "markdown",
   "id": "f540665e",
   "metadata": {},
   "source": [
    "The local entropy for a given Lagrange parameter $\\kappa$ is computed using"
   ]
  },
  {
   "cell_type": "code",
   "execution_count": 43,
   "id": "dd03ff8c",
   "metadata": {},
   "outputs": [
    {
     "name": "stdout",
     "output_type": "stream",
     "text": [
      "We obtain a local entropy of  0.5512829976438371  at a distance  0.39321655940066963\n"
     ]
    }
   ],
   "source": [
    "BP_given_graph.run_LE()\n",
    "print('We obtain a local entropy of ', BP_given_graph.local_entropy, ' at a distance ', BP_given_graph.distance)"
   ]
  },
  {
   "cell_type": "markdown",
   "id": "34ed6f4e",
   "metadata": {},
   "source": [
    "Note that the object must have a solution (or at least a configuration) stored in its config attribute. To obtain the local entropy at a given distance using the adaptative algorithm, use"
   ]
  },
  {
   "cell_type": "code",
   "execution_count": 44,
   "id": "f4f2687e",
   "metadata": {},
   "outputs": [
    {
     "name": "stdout",
     "output_type": "stream",
     "text": [
      "We obtain a local entropy of  0.30049927237956  at a distance  0.10000000000526146\n"
     ]
    }
   ],
   "source": [
    "BP_given_graph.run_LE_adaptative(distance=0.1)\n",
    "print('We obtain a local entropy of ', BP_given_graph.local_entropy, ' at a distance ', BP_given_graph.distance)"
   ]
  },
  {
   "cell_type": "markdown",
   "id": "10c966b0",
   "metadata": {},
   "source": [
    "This can be done with multiple different distances to obtain Figure 3 (see below)."
   ]
  },
  {
   "cell_type": "markdown",
   "id": "7d9a5759",
   "metadata": {},
   "source": [
    "As for the previous examples, the results can be saved, but the procedure will no be described here."
   ]
  },
  {
   "cell_type": "markdown",
   "id": "09eccd23",
   "metadata": {},
   "source": [
    "## Automata network"
   ]
  },
  {
   "cell_type": "markdown",
   "id": "edebbb50",
   "metadata": {},
   "source": [
    "The three previous classes have been included in the 'automata_network' class, which can automatically do the necessary calculation to compute the RS and 1RSB quantities, decide the phase, find solutions and compute the local entropy."
   ]
  },
  {
   "cell_type": "markdown",
   "id": "16ea34fa",
   "metadata": {},
   "source": [
    "### Instantiating automata networks"
   ]
  },
  {
   "cell_type": "markdown",
   "id": "86cfaa82",
   "metadata": {},
   "source": [
    "The only obligatory parameter is again the rule:"
   ]
  },
  {
   "cell_type": "code",
   "execution_count": 1,
   "id": "ce2c5e40",
   "metadata": {},
   "outputs": [],
   "source": [
    "from src.automata_network import automata_network"
   ]
  },
  {
   "cell_type": "code",
   "execution_count": 2,
   "id": "4de939dc",
   "metadata": {},
   "outputs": [],
   "source": [
    "my_automata=automata_network(rule=['+','+','0','0'])"
   ]
  },
  {
   "cell_type": "code",
   "execution_count": 3,
   "id": "777f73cf",
   "metadata": {},
   "outputs": [
    {
     "data": {
      "text/plain": [
       "Instance of class 'automata_network'\n",
       "\n",
       "Instance of class 'BP'\n",
       "Rule : ['+', '+', '0', '0']\n",
       "μ =  0\n",
       "\n",
       "Instance of class 'population_dynamics_torch'\n",
       "Rule : ['+', '+', '0', '0']\n",
       "μ =  0\n",
       "Population size: 10000000"
      ]
     },
     "execution_count": 3,
     "metadata": {},
     "output_type": "execute_result"
    }
   ],
   "source": [
    "my_automata"
   ]
  },
  {
   "cell_type": "markdown",
   "id": "56eed902",
   "metadata": {},
   "source": [
    "By default the population dynamics uses the GPU, this can be changed by setting cuda=False as a parameter."
   ]
  },
  {
   "cell_type": "markdown",
   "id": "466f9e4c",
   "metadata": {},
   "source": [
    "### Computing the phase"
   ]
  },
  {
   "cell_type": "markdown",
   "id": "2b64823a",
   "metadata": {},
   "source": [
    "To compute the phase, use"
   ]
  },
  {
   "cell_type": "code",
   "execution_count": 4,
   "id": "a7ff1bc9",
   "metadata": {},
   "outputs": [
    {
     "name": "stderr",
     "output_type": "stream",
     "text": [
      "/home/ckoller/anaconda3/envs/cedric_env/lib/python3.8/site-packages/torch/__init__.py:614: UserWarning: torch.set_default_tensor_type() is deprecated as of PyTorch 2.1, please use torch.set_default_dtype() and torch.set_default_device() as alternatives. (Triggered internally at /opt/conda/conda-bld/pytorch_1695392036766/work/torch/csrc/tensor/python_tensor.cpp:451.)\n",
      "  _C._set_default_tensor_type(t)\n"
     ]
    },
    {
     "data": {
      "text/plain": [
       "Instance of class 'automata_network'\n",
       "\n",
       "Phase: d1RSB\n",
       "Solution(s): Exponentially many with homogeneous stationary solutions\n",
       "\n",
       "Instance of class 'BP'\n",
       "Rule : ['+', '+', '0', '0']\n",
       "μ =  6.5\n",
       "φ = 3.758339390427073\n",
       "ρ = 0.5708155849739798\n",
       "s = 0.04803808809620458\n",
       "Stability noisy fixed point in population dynamics: False\n",
       "Linear susceptibility stability: False\n",
       "Non-linear susceptibility stability: True\n",
       "φ SP: 2.2204460492503128e-16\n",
       "Stability SP: True\n",
       "\n",
       "Instance of class 'population_dynamics_torch'\n",
       "Rule : ['+', '+', '0', '0']\n",
       "μ =  6.5\n",
       "Population size: 10000000\n",
       "φ = 3.754472168480478 +/- 0.0010292286411320753\n",
       "Σ = 0.0038698940742306594 +/- 0.0009244242616783456\n",
       "Ψ = 3.7583420625547084 +/- 0.00020905095219640537\n",
       "ρ = 0.5708866250224229 +/- 0.00036123812789969637\n",
       "s = 0.04370910583472833 +/- 0.0014036481895416304\n",
       "\n",
       "Fraction hard fields : 0.0\n",
       "Fraction i frozen : 0.0\n",
       "Fraction j frozen : 0.0\n",
       "Fraction at least one config forbidden : 0.0\n",
       "Stability : True\n",
       "Stability noise only non-zero : True"
      ]
     },
     "execution_count": 4,
     "metadata": {},
     "output_type": "execute_result"
    }
   ],
   "source": [
    "my_automata=automata_network(rule=['+','+','0','0'], mu=6.5)\n",
    "my_automata.RS_and_1RSB()\n",
    "my_automata"
   ]
  },
  {
   "cell_type": "code",
   "execution_count": 5,
   "id": "789e4b19",
   "metadata": {},
   "outputs": [
    {
     "name": "stdout",
     "output_type": "stream",
     "text": [
      "Warning... BP free entropy smaller than population dynamics free entropy for rule  ['+', '+', '0', '0'] , computing static 1RSB and hoping that this solves the problem.\n",
      "Problem solved with static 1RSB, all good !\n"
     ]
    },
    {
     "name": "stderr",
     "output_type": "stream",
     "text": [
      "/home/ckoller/anaconda3/envs/cedric_env/lib/python3.8/site-packages/scipy/optimize/_minpack_py.py:906: OptimizeWarning: Covariance of the parameters could not be estimated\n",
      "  warnings.warn('Covariance of the parameters could not be estimated',\n"
     ]
    },
    {
     "data": {
      "text/plain": [
       "Instance of class 'automata_network'\n",
       "\n",
       "Phase: s1RSB\n",
       "Solution(s): Exponentially many with homogeneous stationary solutions\n",
       "\n",
       "Instance of class 'BP'\n",
       "Rule : ['+', '+', '0', '0']\n",
       "μ =  15\n",
       "φ = 8.764146722418072\n",
       "ρ = 0.5968883881891716\n",
       "s = -0.18917910041950137\n",
       "Stability noisy fixed point in population dynamics: False\n",
       "Linear susceptibility stability: False\n",
       "Non-linear susceptibility stability: True\n",
       "φ SP: 2.2204460492503128e-16\n",
       "Stability SP: True\n",
       "\n",
       "Instance of class 'population_dynamics_torch'\n",
       "Rule : ['+', '+', '0', '0']\n",
       "μ =  15\n",
       "Population size: 10000000\n",
       "Stability : False\n",
       "Stability noise only non-zero : False\n",
       "φ_s = 8.645464606530842\n",
       "ρ_s = 0.5757230832947974\n",
       "\n",
       "Fraction hard fields : 0.0\n",
       "Fraction i frozen : 0.0\n",
       "Fraction j frozen : 0.0\n",
       "Fraction at least one config forbidden : 0.0"
      ]
     },
     "execution_count": 5,
     "metadata": {},
     "output_type": "execute_result"
    }
   ],
   "source": [
    "my_automata=automata_network(rule=['+','+','0','0'], mu=15)\n",
    "my_automata.RS_and_1RSB()\n",
    "my_automata"
   ]
  },
  {
   "cell_type": "code",
   "execution_count": 6,
   "id": "1d472806",
   "metadata": {},
   "outputs": [
    {
     "data": {
      "image/png": "[encoded data removed]",
      "text/plain": [
       "<Figure size 432x288 with 1 Axes>"
      ]
     },
     "metadata": {
      "needs_background": "light"
     },
     "output_type": "display_data"
    }
   ],
   "source": [
    "my_automata.population_dynamics.draw_sigma_rho()"
   ]
  },
  {
   "cell_type": "markdown",
   "id": "b7ecf0ae",
   "metadata": {},
   "source": [
    "This firstly does the grid search on all the BP fixed points and the population dynamics for $m=1$, and if needed searches for other $m\\neq1$."
   ]
  },
  {
   "cell_type": "markdown",
   "id": "8df60c9b",
   "metadata": {},
   "source": [
    "### Saving and loading the results"
   ]
  },
  {
   "cell_type": "markdown",
   "id": "b36de7d3",
   "metadata": {},
   "source": [
    "Saving is done as following:"
   ]
  },
  {
   "cell_type": "code",
   "execution_count": 7,
   "id": "71865d48",
   "metadata": {},
   "outputs": [],
   "source": [
    "my_automata.save()"
   ]
  },
  {
   "cell_type": "markdown",
   "id": "c9e1c80e",
   "metadata": {},
   "source": [
    "Loading is done as following (by default the population and the graph is not saved):"
   ]
  },
  {
   "cell_type": "code",
   "execution_count": 8,
   "id": "16adda34",
   "metadata": {},
   "outputs": [
    {
     "name": "stdout",
     "output_type": "stream",
     "text": [
      "Before loading :\n",
      " Instance of class 'automata_network'\n",
      "\n",
      "Instance of class 'BP'\n",
      "Rule : ['+', '+', '0', '0']\n",
      "μ =  0\n",
      "\n",
      "Instance of class 'population_dynamics_torch'\n",
      "Rule : ['+', '+', '0', '0']\n",
      "μ =  0\n",
      "Population size: 10000000\n",
      "\n",
      "\n",
      "After loading : Instance of class 'automata_network'\n",
      "\n",
      "Phase: RS\n",
      "Solution(s): Exponentially many with homogeneous stationary solutions\n",
      "\n",
      "Instance of class 'BP'\n",
      "Rule : ['+', '+', '0', '0']\n",
      "μ =  0\n",
      "φ = 0.5512829976438367\n",
      "ρ = 0.32202759900166067\n",
      "s = 0.5512829976438367\n",
      "Stability noisy fixed point in population dynamics: True\n",
      "Linear susceptibility stability: True\n",
      "Non-linear susceptibility stability: True\n",
      "φ SP: 2.2204460492503128e-16\n",
      "Stability SP: True\n",
      "\n",
      "Instance of class 'population_dynamics_torch'\n",
      "Rule : ['+', '+', '0', '0']\n",
      "μ =  0\n",
      "Population size: 10000000\n",
      "φ = 0.551284670829773 +/- 0.0\n",
      "Σ = -8.344650268554688e-07 +/- 0.0\n",
      "Ψ = 0.5512838363647461 +/- 0.0\n",
      "ρ = 0.32202744483947754 +/- 0.0\n",
      "s = 0.551284670829773 +/- 0.0\n",
      "\n",
      "Fraction hard fields : 0.0\n",
      "Fraction i frozen : 0.0\n",
      "Fraction j frozen : 0.0\n",
      "Fraction at least one config forbidden : 0.0\n",
      "Stability : True\n",
      "Stability noise only non-zero : True\n"
     ]
    }
   ],
   "source": [
    "my_automata=automata_network(rule=['+','+','0','0'])\n",
    "print('Before loading :\\n', my_automata)\n",
    "my_automata.load()\n",
    "print('\\n\\nAfter loading :', my_automata)"
   ]
  },
  {
   "cell_type": "markdown",
   "id": "96c959e3",
   "metadata": {},
   "source": [
    "## Reproducing table 1, 2 and 3 (classification of the outer totalistic rules for d=3)"
   ]
  },
  {
   "cell_type": "markdown",
   "id": "b1883bef",
   "metadata": {},
   "source": [
    "All the different constraints for d=3 can be obtained from"
   ]
  },
  {
   "cell_type": "code",
   "execution_count": 13,
   "id": "8709c633",
   "metadata": {},
   "outputs": [],
   "source": [
    "from src.automata_network import *\n",
    "from utils.rules import *"
   ]
  },
  {
   "cell_type": "code",
   "execution_count": null,
   "id": "9caceaca",
   "metadata": {},
   "outputs": [],
   "source": [
    "rules=generate_independent_OT_rules(d=3)"
   ]
  },
  {
   "cell_type": "markdown",
   "id": "1ea84bbc",
   "metadata": {},
   "source": [
    "Then we do the previous calculation on all the rules. We look for solutions if there are no homogeneous solutions and the rule is not locally contradictory"
   ]
  },
  {
   "cell_type": "code",
   "execution_count": null,
   "id": "073f0008",
   "metadata": {},
   "outputs": [],
   "source": [
    "for rule in rules:\n",
    "    print('========== Rule : ', rule, '================')\n",
    "    my_automata=automata_network(rule=rule)\n",
    "    my_automata.RS_and_1RSB()\n",
    "    my_automata.save(save_population=True)\n",
    "    if my_automata.solutions=='Exponentially many with no homogeneous stationary solutions' or my_automata.solutions=='No stationary configuration but not locally contradictory' or my_automata.solutions=='Subexponentially many with no homogeneous stationary solutions':\n",
    "        my_automata.BP_reinforcement()\n",
    "        my_automata.save(save_population=True)"
   ]
  },
  {
   "cell_type": "markdown",
   "id": "94b29486",
   "metadata": {},
   "source": [
    "Creating the table:"
   ]
  },
  {
   "cell_type": "code",
   "execution_count": null,
   "id": "d2a6b8e8",
   "metadata": {},
   "outputs": [],
   "source": [
    "locally_contradictory=[]\n",
    "No_stationary_but_not_locally_contradictory=[]\n",
    "subexp_no_homo=[]\n",
    "only_homo=[]\n",
    "subexp_with_homo=[]\n",
    "exp_no_homo=[]\n",
    "exp_with_homo=[]\n",
    "for rule in rules:\n",
    "    automata=automata_network(rule=rule)\n",
    "    automata.load()\n",
    "    if automata.solutions=='locally contradictory':\n",
    "        locally_contradictory.append(automata.rule)\n",
    "    elif automata.solutions=='No stationary configuration but not locally contradictory' or automata.solutions=='No stationary solutions but not locally contradictory':\n",
    "        No_stationary_but_not_locally_contradictory.append(automata.rule)\n",
    "    elif automata.solutions=='Subexponentially many with no homogeneous stationary solutions':\n",
    "        subexp_no_homo.append(automata.rule)\n",
    "    elif automata.solutions=='Only homogeneous stationary solutions':\n",
    "        only_homo.append(automata.rule)\n",
    "    elif automata.solutions=='Subexponentially many with homogeneous stationary solutions':\n",
    "        subexp_with_homo.append(automata.rule)\n",
    "    elif automata.solutions=='Exponentially many with no homogeneous stationary solutions':\n",
    "        exp_no_homo.append(automata.rule)\n",
    "    elif automata.solutions=='Exponentially many with homogeneous stationary solutions':\n",
    "        exp_with_homo.append(automata.rule)\n",
    "    else:\n",
    "        print(rule, automata.solutions)"
   ]
  },
  {
   "cell_type": "code",
   "execution_count": null,
   "id": "1cc541c9",
   "metadata": {},
   "outputs": [
    {
     "data": {
      "text/plain": [
       "[['-', '0', '+', '0'],\n",
       " ['-', '0', '+', '-'],\n",
       " ['-', '+', '0', '0'],\n",
       " ['-', '+', '0', '-'],\n",
       " ['-', '+', '+', '0'],\n",
       " ['-', '+', '+', '-'],\n",
       " ['-', '+', '1', '0'],\n",
       " ['-', '1', '+', '0'],\n",
       " ['-', '1', '1', '0'],\n",
       " ['1', '0', '0', '0'],\n",
       " ['1', '0', '+', '0'],\n",
       " ['1', '+', '0', '0'],\n",
       " ['1', '+', '+', '0'],\n",
       " ['1', '+', '-', '0'],\n",
       " ['1', '1', '0', '0']]"
      ]
     },
     "execution_count": 4,
     "metadata": {},
     "output_type": "execute_result"
    }
   ],
   "source": [
    "exp_no_homo"
   ]
  },
  {
   "cell_type": "code",
   "execution_count": null,
   "id": "aa1ddcad",
   "metadata": {},
   "outputs": [
    {
     "data": {
      "text/plain": [
       "[['-', '0', '0', '0'],\n",
       " ['-', '0', '0', '-'],\n",
       " ['-', '0', '-', '0'],\n",
       " ['-', '0', '-', '-'],\n",
       " ['-', '-', '0', '0'],\n",
       " ['-', '-', '0', '-'],\n",
       " ['-', '-', '-', '0'],\n",
       " ['-', '-', '-', '-']]"
      ]
     },
     "execution_count": 5,
     "metadata": {},
     "output_type": "execute_result"
    }
   ],
   "source": [
    "locally_contradictory"
   ]
  },
  {
   "cell_type": "code",
   "execution_count": null,
   "id": "dc6bc04a",
   "metadata": {},
   "outputs": [
    {
     "data": {
      "text/plain": [
       "[['-', '0', '1', '0'],\n",
       " ['-', '0', '1', '-'],\n",
       " ['-', '+', '-', '0'],\n",
       " ['-', '+', '-', '-'],\n",
       " ['-', '-', '+', '0'],\n",
       " ['-', '-', '1', '0'],\n",
       " ['-', '1', '0', '0'],\n",
       " ['-', '1', '0', '-'],\n",
       " ['-', '1', '-', '0'],\n",
       " ['1', '0', '-', '0'],\n",
       " ['1', '-', '0', '0'],\n",
       " ['1', '-', '-', '0']]"
      ]
     },
     "execution_count": 6,
     "metadata": {},
     "output_type": "execute_result"
    }
   ],
   "source": [
    "No_stationary_but_not_locally_contradictory"
   ]
  },
  {
   "cell_type": "code",
   "execution_count": null,
   "id": "d597253c",
   "metadata": {},
   "outputs": [
    {
     "data": {
      "text/plain": [
       "[['1', '0', '1', '0']]"
      ]
     },
     "execution_count": 7,
     "metadata": {},
     "output_type": "execute_result"
    }
   ],
   "source": [
    "subexp_no_homo"
   ]
  },
  {
   "cell_type": "code",
   "execution_count": null,
   "id": "9fb94cfc",
   "metadata": {},
   "outputs": [
    {
     "data": {
      "text/plain": [
       "[['0', '0', '0', '0'],\n",
       " ['0', '0', '0', '+'],\n",
       " ['0', '0', '0', '-'],\n",
       " ['0', '0', '0', '1'],\n",
       " ['0', '0', '-', '0'],\n",
       " ['0', '0', '-', '+'],\n",
       " ['0', '0', '-', '-'],\n",
       " ['0', '0', '-', '1'],\n",
       " ['0', '-', '0', '0'],\n",
       " ['0', '-', '0', '+'],\n",
       " ['0', '-', '0', '-'],\n",
       " ['0', '-', '0', '1'],\n",
       " ['0', '-', '+', '0'],\n",
       " ['0', '-', '+', '-'],\n",
       " ['0', '-', '-', '0'],\n",
       " ['0', '-', '-', '+'],\n",
       " ['0', '-', '-', '-'],\n",
       " ['0', '-', '-', '1'],\n",
       " ['0', '-', '1', '0'],\n",
       " ['0', '-', '1', '-'],\n",
       " ['0', '1', '0', '-'],\n",
       " ['0', '1', '-', '0'],\n",
       " ['0', '1', '-', '+'],\n",
       " ['0', '1', '-', '-'],\n",
       " ['0', '1', '1', '-'],\n",
       " ['+', '-', '0', '-'],\n",
       " ['+', '-', '-', '0'],\n",
       " ['+', '-', '-', '+'],\n",
       " ['+', '-', '-', '-'],\n",
       " ['+', '-', '1', '0'],\n",
       " ['+', '-', '1', '-'],\n",
       " ['+', '1', '-', '0'],\n",
       " ['+', '1', '-', '-'],\n",
       " ['+', '1', '1', '-']]"
      ]
     },
     "execution_count": 8,
     "metadata": {},
     "output_type": "execute_result"
    }
   ],
   "source": [
    "only_homo"
   ]
  },
  {
   "cell_type": "code",
   "execution_count": null,
   "id": "030a1466",
   "metadata": {},
   "outputs": [
    {
     "data": {
      "text/plain": [
       "[['0', '1', '0', '1'], ['+', '-', '+', '-']]"
      ]
     },
     "execution_count": 9,
     "metadata": {},
     "output_type": "execute_result"
    }
   ],
   "source": [
    "subexp_with_homo"
   ]
  },
  {
   "cell_type": "code",
   "execution_count": null,
   "id": "83f13af3",
   "metadata": {},
   "outputs": [
    {
     "data": {
      "text/plain": [
       "[['-', '0', '+', '0'],\n",
       " ['-', '0', '+', '-'],\n",
       " ['-', '+', '0', '0'],\n",
       " ['-', '+', '0', '-'],\n",
       " ['-', '+', '+', '0'],\n",
       " ['-', '+', '+', '-'],\n",
       " ['-', '+', '1', '0'],\n",
       " ['-', '1', '+', '0'],\n",
       " ['-', '1', '1', '0'],\n",
       " ['1', '0', '0', '0'],\n",
       " ['1', '0', '+', '0'],\n",
       " ['1', '+', '0', '0'],\n",
       " ['1', '+', '+', '0'],\n",
       " ['1', '+', '-', '0'],\n",
       " ['1', '1', '0', '0']]"
      ]
     },
     "execution_count": 10,
     "metadata": {},
     "output_type": "execute_result"
    }
   ],
   "source": [
    "exp_no_homo"
   ]
  },
  {
   "cell_type": "code",
   "execution_count": null,
   "id": "c90fbeb5",
   "metadata": {},
   "outputs": [
    {
     "data": {
      "text/plain": [
       "[['0', '0', '+', '0'],\n",
       " ['0', '0', '+', '+'],\n",
       " ['0', '0', '+', '-'],\n",
       " ['0', '0', '+', '1'],\n",
       " ['0', '0', '1', '0'],\n",
       " ['0', '0', '1', '+'],\n",
       " ['0', '0', '1', '-'],\n",
       " ['0', '0', '1', '1'],\n",
       " ['0', '+', '0', '0'],\n",
       " ['0', '+', '0', '+'],\n",
       " ['0', '+', '0', '-'],\n",
       " ['0', '+', '0', '1'],\n",
       " ['0', '+', '+', '0'],\n",
       " ['0', '+', '+', '+'],\n",
       " ['0', '+', '+', '-'],\n",
       " ['0', '+', '+', '1'],\n",
       " ['0', '+', '-', '0'],\n",
       " ['0', '+', '-', '+'],\n",
       " ['0', '+', '-', '-'],\n",
       " ['0', '+', '-', '1'],\n",
       " ['0', '+', '1', '0'],\n",
       " ['0', '+', '1', '+'],\n",
       " ['0', '+', '1', '-'],\n",
       " ['0', '-', '+', '+'],\n",
       " ['0', '-', '1', '+'],\n",
       " ['0', '1', '0', '0'],\n",
       " ['0', '1', '0', '+'],\n",
       " ['0', '1', '+', '0'],\n",
       " ['0', '1', '+', '+'],\n",
       " ['0', '1', '+', '-'],\n",
       " ['0', '1', '1', '0'],\n",
       " ['0', '1', '1', '+'],\n",
       " ['+', '0', '0', '0'],\n",
       " ['+', '0', '0', '+'],\n",
       " ['+', '0', '0', '-'],\n",
       " ['+', '0', '+', '0'],\n",
       " ['+', '0', '+', '+'],\n",
       " ['+', '0', '+', '-'],\n",
       " ['+', '0', '-', '0'],\n",
       " ['+', '0', '-', '+'],\n",
       " ['+', '0', '-', '-'],\n",
       " ['+', '0', '1', '0'],\n",
       " ['+', '0', '1', '+'],\n",
       " ['+', '0', '1', '-'],\n",
       " ['+', '+', '0', '0'],\n",
       " ['+', '+', '0', '+'],\n",
       " ['+', '+', '0', '-'],\n",
       " ['+', '+', '+', '0'],\n",
       " ['+', '+', '+', '+'],\n",
       " ['+', '+', '+', '-'],\n",
       " ['+', '+', '-', '0'],\n",
       " ['+', '+', '-', '+'],\n",
       " ['+', '+', '-', '-'],\n",
       " ['+', '+', '1', '0'],\n",
       " ['+', '+', '1', '-'],\n",
       " ['+', '-', '0', '0'],\n",
       " ['+', '-', '0', '+'],\n",
       " ['+', '-', '+', '0'],\n",
       " ['+', '1', '0', '0'],\n",
       " ['+', '1', '0', '+'],\n",
       " ['+', '1', '0', '-'],\n",
       " ['+', '1', '+', '0'],\n",
       " ['+', '1', '+', '-'],\n",
       " ['+', '1', '1', '0']]"
      ]
     },
     "execution_count": 11,
     "metadata": {},
     "output_type": "execute_result"
    }
   ],
   "source": [
    "exp_with_homo"
   ]
  },
  {
   "cell_type": "code",
   "execution_count": null,
   "id": "d3200104",
   "metadata": {},
   "outputs": [],
   "source": [
    "from tabulate import tabulate\n",
    "import math"
   ]
  },
  {
   "cell_type": "code",
   "execution_count": null,
   "id": "f77ad2a2",
   "metadata": {},
   "outputs": [
    {
     "name": "stdout",
     "output_type": "stream",
     "text": [
      "['-', '0', '+', '0'] l1RSB 0.10158630792724122 True (False, True) 0.10136115550994873 -0.004733920097351074 0.1060950756072998 False 0.10158630792724432 False -4.930380657631324e-32\n",
      "['-', '0', '+', '-'] l1RSB 0.05229014029480261 True (False, True) 0.05223846435546875 0.000917971134185791 0.05132049322128296 False 0.0522901402948055 False 0.05197821989717677\n",
      "['-', '+', '0', '0'] RS 0.21906497551099058 True (False, True) 0.21906530857086182 0.21906495094299316 3.5762786865234375e-07 True -4.930380657631324e-32 True None\n",
      "['-', '+', '0', '-'] RS 0.15406870832503294 True (False, True) 0.1540682315826416 0.15406811237335205 1.1920928955078125e-07 True -1.1102230246251563e-16 True None\n",
      "['-', '+', '+', '0'] RS 0.4880422664954711 True (True, True) 0.48804354667663574 0.48804402351379395 -4.76837158203125e-07 True 5.551115123125783e-17 True None\n",
      "['-', '+', '+', '-'] RS 0.40546510810816416 True (False, True) 0.40546512603759766 0.40546417236328125 9.5367431640625e-07 True -1.1102230246251563e-16 True None\n",
      "['-', '+', '1', '0'] r1RSB 0.21485137631824158 True (True, True) 0.21492207050323486 0.08187949657440186 0.133042573928833 False 0.17324177729346069 False 2.2204460492503128e-16\n",
      "['-', '1', '+', '0'] RS 0.35508430875602603 True (False, True) 0.3550853729248047 0.3550846576690674 7.152557373046875e-07 True -1.1102230246251565e-16 True None\n",
      "['-', '1', '1', '0'] RS 0.1892759603688665 True (False, True) 0.18927574157714844 0.18927574157714844 0.0 True -1.7039395552773855e-28 True None\n",
      "['1', '0', '0', '0'] RS 0.26167212732405787 True (True, True) 0.26167213916778564 0.2616698741912842 2.2649765014648438e-06 True -1.1102232083335695e-16 True None\n",
      "['1', '0', '+', '0'] r1RSB 0.28445928028610856 True (True, True) 0.2842601537704468 0.14597952365875244 0.13828063011169434 False 0.2045757755688048 False 1.110223024625156e-16\n",
      "['1', '+', '0', '0'] RS 0.4414214971125785 True (True, True) 0.4414215087890625 0.4414212703704834 2.384185791015625e-07 True 1.110223024625156e-16 True None\n",
      "['1', '+', '+', '0'] RS 0.5828580130949987 True (True, True) 0.5828582048416138 0.582859992980957 -1.7881393432617188e-06 True 1.110223024625156e-16 True None\n",
      "['1', '+', '-', '0'] l1RSB 0.10381968238912198 True (True, True) 0.1040724515914917 0.0027535557746887207 0.10131889581680298 True 0.10381968238912198 True None\n",
      "['1', '1', '0', '0'] RS 0.23500181462286762 True (True, True) 0.23500239849090576 0.23500502109527588 -2.6226043701171875e-06 True -1.1102230246251565e-16 True None\n"
     ]
    }
   ],
   "source": [
    "rule_=[]\n",
    "phase_=[]\n",
    "phi_RS_=[]\n",
    "psi_=[]\n",
    "phi_=[]\n",
    "sigma_=[]\n",
    "phi_s=[]\n",
    "rounding=3\n",
    "for rule in exp_no_homo:\n",
    "    automata=automata_network(rule=rule)\n",
    "    automata.load()\n",
    "    rule_.append(str(rule).replace('[','(').replace(']',')').replace('\\'','').replace(' ',''))\n",
    "    if (automata.phase=='l1RSB' or automata.phase=='r1RSB' or automata.phase=='d1RSB') and automata.population_dynamics.stability==False:\n",
    "        phase_.append(r'\\textit{'+automata.phase+'}')\n",
    "    elif automata.phase=='RS' and automata.BP.stability_AT==False:\n",
    "        phase_.append(r'\\textit{'+automata.phase+'}')\n",
    "    else:\n",
    "        phase_.append(automata.phase)\n",
    "\n",
    "    phi_RS_.append(str(\"{:.3f}\".format(automata.BP.phi))) if automata.BP.stability_AT and automata.BP.physical else phi_RS_.append(r'\\textit{'+str(\"{:.3f}\".format(automata.BP.phi))+'}')\n",
    "    if automata.phase!='RS' and not math.isnan(automata.population_dynamics.psi_mean) and not math.isinf(automata.population_dynamics.psi_mean):\n",
    "        psi_.append(str(\"{:.3f}\".format(automata.population_dynamics.psi_mean))) if automata.population_dynamics.stability else psi_.append(r'\\textit{'+str(\"{:.3f}\".format(automata.population_dynamics.psi_mean))+'}')\n",
    "        phi_.append(str(\"{:.3f}\".format(automata.population_dynamics.phi_mean))) if automata.population_dynamics.stability else phi_.append(r'\\textit{'+str(\"{:.3f}\".format(automata.population_dynamics.phi_mean))+'}')\n",
    "        sigma_.append(str(\"{:.3f}\".format(automata.population_dynamics.complexity_mean))) if automata.population_dynamics.stability else sigma_.append(r'\\textit{'+str(\"{:.3f}\".format(automata.population_dynamics.complexity_mean))+'}')\n",
    "    else:\n",
    "        psi_.append('')\n",
    "        phi_.append('')\n",
    "        sigma_.append('')\n",
    "    if automata.phase=='s1RSB':\n",
    "        phi_s.append(str(\"{:.3f}\".format(automata.population_dynamics.phi_s)))\n",
    "    else:\n",
    "        phi_s.append('')\n",
    "\n",
    "    print(rule, automata.phase, automata.BP.phi, automata.BP.stability_AT, automata.BP.analytic_stability(), automata.population_dynamics.psi, automata.population_dynamics.phi, automata.population_dynamics.complexity, automata.population_dynamics.stability, automata.BP.phi_SP, automata.BP.stability_SP, automata.BP.phi_SP_noisy)"
   ]
  },
  {
   "cell_type": "code",
   "execution_count": null,
   "id": "1b38dc44",
   "metadata": {},
   "outputs": [],
   "source": [
    "def str_with_err(value, error):\n",
    "    if error>0:\n",
    "        digits = -int(math.floor(math.log10(error)))\n",
    "        if digits<=6:\n",
    "            return \"{0:.{2}f}({1:.0f})\".format(value, error*10**digits, digits)\n",
    "    return str(\"{:.4f}\".format(value))"
   ]
  },
  {
   "cell_type": "code",
   "execution_count": null,
   "id": "fe735de9",
   "metadata": {},
   "outputs": [
    {
     "name": "stdout",
     "output_type": "stream",
     "text": [
      "['-', '0', '+', '0'] l1RSB 0.10158630792724122 True (False, True) 0.10136115550994873 -0.004733920097351074 0.1060950756072998 False 0.10158630792724432 False -4.930380657631324e-32\n",
      "['-', '0', '+', '-'] l1RSB 0.05229014029480261 True (False, True) 0.05223846435546875 0.000917971134185791 0.05132049322128296 False 0.0522901402948055 False 0.05197821989717677\n",
      "['-', '+', '0', '0'] RS 0.21906497551099058 True (False, True) 0.21906530857086182 0.21906495094299316 3.5762786865234375e-07 True -4.930380657631324e-32 True None\n",
      "['-', '+', '0', '-'] RS 0.15406870832503294 True (False, True) 0.1540682315826416 0.15406811237335205 1.1920928955078125e-07 True -1.1102230246251563e-16 True None\n",
      "['-', '+', '+', '0'] RS 0.4880422664954711 True (True, True) 0.48804354667663574 0.48804402351379395 -4.76837158203125e-07 True 5.551115123125783e-17 True None\n",
      "['-', '+', '+', '-'] RS 0.40546510810816416 True (False, True) 0.40546512603759766 0.40546417236328125 9.5367431640625e-07 True -1.1102230246251563e-16 True None\n",
      "['-', '+', '1', '0'] r1RSB 0.21485137631824158 True (True, True) 0.21492207050323486 0.08187949657440186 0.133042573928833 False 0.17324177729346069 False 2.2204460492503128e-16\n",
      "['-', '1', '+', '0'] RS 0.35508430875602603 True (False, True) 0.3550853729248047 0.3550846576690674 7.152557373046875e-07 True -1.1102230246251565e-16 True None\n",
      "['-', '1', '1', '0'] RS 0.1892759603688665 True (False, True) 0.18927574157714844 0.18927574157714844 0.0 True -1.7039395552773855e-28 True None\n",
      "['1', '0', '0', '0'] RS 0.26167212732405787 True (True, True) 0.26167213916778564 0.2616698741912842 2.2649765014648438e-06 True -1.1102232083335695e-16 True None\n",
      "['1', '0', '+', '0'] r1RSB 0.28445928028610856 True (True, True) 0.2842601537704468 0.14597952365875244 0.13828063011169434 False 0.2045757755688048 False 1.110223024625156e-16\n",
      "['1', '+', '0', '0'] RS 0.4414214971125785 True (True, True) 0.4414215087890625 0.4414212703704834 2.384185791015625e-07 True 1.110223024625156e-16 True None\n",
      "['1', '+', '+', '0'] RS 0.5828580130949987 True (True, True) 0.5828582048416138 0.582859992980957 -1.7881393432617188e-06 True 1.110223024625156e-16 True None\n",
      "['1', '+', '-', '0'] l1RSB 0.10381968238912198 True (True, True) 0.1040724515914917 0.0027535557746887207 0.10131889581680298 True 0.10381968238912198 True None\n",
      "['1', '1', '0', '0'] RS 0.23500181462286762 True (True, True) 0.23500239849090576 0.23500502109527588 -2.6226043701171875e-06 True -1.1102230246251565e-16 True None\n"
     ]
    }
   ],
   "source": [
    "rule_=[]\n",
    "phase_=[]\n",
    "phi_RS_=[]\n",
    "psi_=[]\n",
    "phi_=[]\n",
    "sigma_=[]\n",
    "phi_s=[]\n",
    "rounding=3\n",
    "for rule in exp_no_homo:\n",
    "    automata=automata_network(rule=rule)\n",
    "    automata.load()\n",
    "    rule_.append(str(rule).replace('[','(').replace(']',')').replace('\\'','').replace(' ',''))\n",
    "    if (automata.phase=='l1RSB' or automata.phase=='r1RSB' or automata.phase=='d1RSB') and automata.population_dynamics.stability==False:\n",
    "        phase_.append(r'\\textit{'+automata.phase+'}')\n",
    "    elif automata.phase=='RS' and (automata.BP.stability_AT==False or automata.BP.physical==False):\n",
    "        phase_.append(r'\\textit{'+automata.phase+'}')\n",
    "    else:\n",
    "        phase_.append(automata.phase)\n",
    "\n",
    "    if automata.BP.phi>-25:\n",
    "        phi_RS_.append(str(\"{:.4f}\".format(automata.BP.phi))) if automata.BP.stability_AT and automata.BP.physical else phi_RS_.append(r'\\textit{'+str(\"{:.4f}\".format(automata.BP.phi))+'}')\n",
    "    else:\n",
    "        phi_RS_.append(r'-\\infty')\n",
    "    if automata.phase!='RS' and not math.isnan(automata.population_dynamics.psi_mean) and not math.isinf(automata.population_dynamics.psi_mean):\n",
    "        automata.load(load_population=True)\n",
    "        if automata.population_dynamics.fraction_i_frozen==1.:\n",
    "            automata.population_dynamics.phi_mean=0\n",
    "            automata.population_dynamics.phi_std=0\n",
    "            automata.population_dynamics.complexity_mean=automata.population_dynamics.psi_mean\n",
    "            automata.population_dynamics.complexity_std=automata.population_dynamics.psi_std\n",
    "        psi_.append(str_with_err(automata.population_dynamics.psi_mean, automata.population_dynamics.psi_std)) if automata.population_dynamics.stability else psi_.append(r'\\textit{'+str_with_err(automata.population_dynamics.psi_mean, automata.population_dynamics.psi_std)+'}')\n",
    "        phi_.append(str_with_err(automata.population_dynamics.phi_mean, automata.population_dynamics.phi_std)) if automata.population_dynamics.stability else phi_.append(r'\\textit{'+str_with_err(automata.population_dynamics.phi_mean, automata.population_dynamics.phi_std)+'}')\n",
    "        sigma_.append(str_with_err(automata.population_dynamics.complexity_mean, automata.population_dynamics.complexity_std)) if automata.population_dynamics.stability else sigma_.append(r'\\textit{'+str_with_err(automata.population_dynamics.complexity_mean, automata.population_dynamics.complexity_std)+'}')\n",
    "    else:\n",
    "        psi_.append('')\n",
    "        phi_.append('')\n",
    "        sigma_.append('')\n",
    "    if automata.phase=='s1RSB':\n",
    "        phi_s.append(str(\"{:.4f}\".format(automata.population_dynamics.phi_s)))\n",
    "    else:\n",
    "        phi_s.append('')\n",
    "\n",
    "    print(rule, automata.phase, automata.BP.phi, automata.BP.stability_AT, automata.BP.analytic_stability(), automata.population_dynamics.psi, automata.population_dynamics.phi, automata.population_dynamics.complexity, automata.population_dynamics.stability, automata.BP.phi_SP, automata.BP.stability_SP, automata.BP.phi_SP_noisy)"
   ]
  },
  {
   "cell_type": "code",
   "execution_count": null,
   "id": "dac5e1f9",
   "metadata": {
    "scrolled": true
   },
   "outputs": [
    {
     "name": "stdout",
     "output_type": "stream",
     "text": [
      "\\begin{tabular}{llrlll}\n",
      "\\hline\n",
      " (-,0,+,0) & \\textit{l1RSB} & 0.1016 & \\textit{0.0000}    & \\textit{0.1016(2)} &  \\\\\n",
      " (-,0,+,-) & \\textit{l1RSB} & 0.0523 & \\textit{0.0000}    & \\textit{0.0523(2)} &  \\\\\n",
      " (-,+,0,0) & RS             & 0.2191 &                    &                    &  \\\\\n",
      " (-,+,0,-) & RS             & 0.1541 &                    &                    &  \\\\\n",
      " (-,+,+,0) & RS             & 0.4880 &                    &                    &  \\\\\n",
      " (-,+,+,-) & RS             & 0.4055 &                    &                    &  \\\\\n",
      " (-,+,1,0) & \\textit{r1RSB} & 0.2149 & \\textit{0.0816(3)} & \\textit{0.1332(3)} &  \\\\\n",
      " (-,1,+,0) & RS             & 0.3551 &                    &                    &  \\\\\n",
      " (-,1,1,0) & RS             & 0.1893 &                    &                    &  \\\\\n",
      " (1,0,0,0) & RS             & 0.2617 &                    &                    &  \\\\\n",
      " (1,0,+,0) & \\textit{r1RSB} & 0.2845 & \\textit{0.1460(4)} & \\textit{0.1384(4)} &  \\\\\n",
      " (1,+,0,0) & RS             & 0.4414 &                    &                    &  \\\\\n",
      " (1,+,+,0) & RS             & 0.5829 &                    &                    &  \\\\\n",
      " (1,+,-,0) & l1RSB          & 0.1038 & 0.0000             & 0.1038(2)          &  \\\\\n",
      " (1,1,0,0) & RS             & 0.2350 &                    &                    &  \\\\\n",
      "\\hline\n",
      "\\end{tabular}\n"
     ]
    }
   ],
   "source": [
    "# Generate LaTeX table\n",
    "data=[rule_, phase_, phi_RS_, phi_, sigma_, phi_s]\n",
    "data = list(zip(*data))\n",
    "\n",
    "latex_table = tabulate(data, tablefmt='latex_raw',  floatfmt=\".4f\")\n",
    "\n",
    "# Print the LaTeX table\n",
    "print(latex_table)"
   ]
  },
  {
   "cell_type": "markdown",
   "id": "87d59496",
   "metadata": {},
   "source": [
    "## Loading rule +-00 and drawing the complexity curve (fig.2 right)"
   ]
  },
  {
   "cell_type": "code",
   "execution_count": 14,
   "id": "e07a0e68-0c6b-4dbe-a774-4bfe0859010c",
   "metadata": {},
   "outputs": [],
   "source": [
    "automata=automata_network(rule=['+','-','0','0'])\n",
    "automata.load()"
   ]
  },
  {
   "cell_type": "code",
   "execution_count": 15,
   "id": "2857c2e4",
   "metadata": {},
   "outputs": [
    {
     "name": "stdout",
     "output_type": "stream",
     "text": [
      "-37.78186020660782 101.45564787981061 -63.662276653849155 1.0\n"
     ]
    },
    {
     "name": "stderr",
     "output_type": "stream",
     "text": [
      "The PostScript backend does not support transparency; partially transparent artists will be rendered opaque.\n"
     ]
    },
    {
     "data": {
      "image/png": "[encoded data removed]",
      "text/plain": [
       "<Figure size 432x288 with 1 Axes>"
      ]
     },
     "metadata": {
      "needs_background": "light"
     },
     "output_type": "display_data"
    }
   ],
   "source": [
    "font = {'family' : ' DejaVu Sans',\n",
    "        'size'   : 13}\n",
    "\n",
    "plt.rc('font', **font)\n",
    "plt.rc('axes', labelsize=15)\n",
    "\n",
    "f, ax=plt.subplots()\n",
    "#ax.set_title(\"Complexity curve rule (+,-,0,0)\")\n",
    "\n",
    "ax.axhline(0, linestyle='--', color='k', markersize=1)\n",
    "ax.axvline(automata.population_dynamics.phi_s, linestyle='--', color='grey', markersize=1)\n",
    "print(*automata.population_dynamics.fitting_param_phi)\n",
    "samples=np.linspace(min(automata.population_dynamics.phi_list),max(automata.population_dynamics.phi_list),1000)\n",
    "ax.plot(samples, fitting_func(samples, *automata.population_dynamics.fitting_param_phi), color='k', linewidth=2) # label=r'Fit $\\Sigma(\\phi_i)=-37+99\\cdot 2^{\\phi_i}-62\\cdot3^{\\phi_i}$'\n",
    "ax.scatter(automata.population_dynamics.phi_list, automata.population_dynamics.complexity_list, marker='+', color='b',linewidths=2, s=100, label=r'Obtained $\\Sigma$ and $\\phi_i$ for $m\\in[0,1]$.')\n",
    "plt.text(0.045, 0.001, r'$\\phi_s$', fontsize=16)\n",
    "\n",
    "ax.set_ylim([-0.006, 0.016])\n",
    "\n",
    "ax.legend()\n",
    "ax.set_xlabel(r'$\\phi_i$')\n",
    "ax.set_ylabel(r'$\\Sigma$');\n",
    "# plt.savefig('complexity_curve.eps', dpi=300, bbox_inches = \"tight\")"
   ]
  },
  {
   "cell_type": "code",
   "execution_count": 16,
   "id": "cc6c6844-e9b3-4e64-aad2-a35beb581607",
   "metadata": {},
   "outputs": [],
   "source": [
    "# Checking the stability of the fixed point at phi_s:\n",
    "pop=population_dynamics_torch(rule=['+','-','0','0'], m=8.62070345e-01)"
   ]
  },
  {
   "cell_type": "code",
   "execution_count": 17,
   "id": "167db341-e82a-4fce-8a27-d55e35b3a96a",
   "metadata": {},
   "outputs": [],
   "source": [
    "pop.run(verbose=0)"
   ]
  },
  {
   "cell_type": "code",
   "execution_count": 18,
   "id": "da10e978-3ffb-4b6b-9e30-9805c1f6ea55",
   "metadata": {},
   "outputs": [
    {
     "data": {
      "text/plain": [
       "Instance of class 'population_dynamics_torch'\n",
       "Rule : ['+', '-', '0', '0']\n",
       "μ =  0\n",
       "Population size: 10000000\n",
       "φ = 0.04343063075367997 +/- 0.00012788371292747787\n",
       "Σ = 0.000876049160892556 +/- 9.577615584217091e-05\n",
       "Ψ = 0.03831630799828506 +/- 0.00011530262596190929\n",
       "ρ = 0.38293434861229686 +/- 0.0002891549370645913\n",
       "s = 0.04343063075367997 +/- 0.00012788371292747787\n",
       "\n",
       "Fraction hard fields : 0.07458600401878357\n",
       "Fraction i frozen : 0.6621956825256348\n",
       "Fraction j frozen : 0.4059242904186249\n",
       "Fraction at least one config forbidden : 1.0\n",
       "Stability : True\n",
       "Stability noise only non-zero : True"
      ]
     },
     "execution_count": 18,
     "metadata": {},
     "output_type": "execute_result"
    }
   ],
   "source": [
    "pop.stability_check()\n",
    "pop"
   ]
  },
  {
   "cell_type": "code",
   "execution_count": null,
   "id": "d3db32ab",
   "metadata": {},
   "outputs": [
    {
     "name": "stdout",
     "output_type": "stream",
     "text": [
      "['0', '0', '1', '+'] RS 0.28330814945696603 True (True, True) 0.28330886363983154 0.28330910205841064 -2.384185791015625e-07 False 1.110223024625156e-16 True None\n",
      "['-', '0', '0', '0'] RS -28.255225757250898 False (True, True) nan nan nan False -17.632190529366852 True None\n",
      "['-', '0', '0', '-'] RS -28.255225757250898 False (True, True) nan nan nan False -17.632190529366838 True None\n",
      "['-', '0', '-', '0'] RS -28.255225757251225 False (True, True) nan nan nan False -17.632190515524073 True None\n",
      "['-', '0', '-', '-'] RS -28.255225757251225 False (True, True) nan nan nan False -17.63219051552406 True None\n",
      "['-', '-', '0', '0'] RS -55.09175021246615 False (True, True) nan nan nan False -34.06882331765462 True None\n",
      "['-', '-', '0', '-'] RS -55.091750212466636 False (True, True) nan nan nan False -34.06882328156834 True None\n",
      "['-', '-', '-', '0'] RS -45.36444309078509 True (True, True) nan nan nan False -28.557527129987722 True None\n",
      "Warning: normalization for the linear stability is 0\n",
      "['-', '-', '-', '-'] RS -inf True (True, True) -inf nan nan False -inf True None\n"
     ]
    }
   ],
   "source": [
    "# Not mentioned in the paper, but we compare the stability of survey propagation and of the population dynamics\n",
    "for rule in rules:\n",
    "    automata=automata_network(rule=rule)\n",
    "    automata.load()\n",
    "    if automata.BP.stability_SP!=automata.population_dynamics.stability:\n",
    "        print(rule, automata.phase, automata.BP.phi, automata.BP.stability_AT, automata.BP.analytic_stability(), automata.population_dynamics.psi, automata.population_dynamics.phi, automata.population_dynamics.complexity, automata.population_dynamics.stability, automata.BP.phi_SP, automata.BP.stability_SP, automata.BP.phi_SP_noisy)"
   ]
  },
  {
   "cell_type": "code",
   "execution_count": null,
   "id": "5f1c9be1",
   "metadata": {},
   "outputs": [
    {
     "name": "stdout",
     "output_type": "stream",
     "text": [
      "['-', '0', '0', '0'] RS -28.255225757250898 False (True, True) nan nan nan False -17.632190529366852 True None\n",
      "['-', '0', '0', '-'] RS -28.255225757250898 False (True, True) nan nan nan False -17.632190529366838 True None\n",
      "['-', '0', '-', '0'] RS -28.255225757251225 False (True, True) nan nan nan False -17.632190515524073 True None\n",
      "['-', '0', '-', '-'] RS -28.255225757251225 False (True, True) nan nan nan False -17.63219051552406 True None\n",
      "['-', '-', '0', '0'] RS -55.09175021246615 False (True, True) nan nan nan False -34.06882331765462 True None\n",
      "['-', '-', '0', '-'] RS -55.091750212466636 False (True, True) nan nan nan False -34.06882328156834 True None\n",
      "Warning: normalization for the linear stability is 0\n",
      "['-', '1', '0', '-'] NPC -0.2027325540540823 True (False, False) -0.20263242721557617 0.0 -0.20263242721557617 True -0.20273255405408408 True None\n",
      "['-', '1', '-', '0'] NPC -0.2502012117690937 True (False, False) -0.24999284744262695 0.0 -0.24999284744262695 True -0.2502012117690988 True None\n"
     ]
    }
   ],
   "source": [
    "# Not mentioned in the paper, but we compare the numerical stability to the analytical stability and confirm that they are the same (except for some rules where the entropy is negative, where this comparison does not make sense)\n",
    "for rule in rules:\n",
    "    automata=automata_network(rule=rule)\n",
    "    automata.load()\n",
    "    if automata.BP.stability_AT!=automata.BP.analytic_stability()[1]:\n",
    "        print(rule, automata.phase, automata.BP.phi, automata.BP.stability_AT, automata.BP.analytic_stability(), automata.population_dynamics.psi, automata.population_dynamics.phi, automata.population_dynamics.complexity, automata.population_dynamics.stability, automata.BP.phi_SP, automata.BP.stability_SP, automata.BP.phi_SP_noisy)"
   ]
  },
  {
   "cell_type": "markdown",
   "id": "c32d0684",
   "metadata": {},
   "source": [
    "# Saving the main results to a csv file"
   ]
  },
  {
   "cell_type": "code",
   "execution_count": null,
   "id": "f5291de5",
   "metadata": {},
   "outputs": [],
   "source": [
    "import pandas as pd"
   ]
  },
  {
   "cell_type": "code",
   "execution_count": null,
   "id": "c0b65560",
   "metadata": {},
   "outputs": [],
   "source": [
    "csv=[]\n",
    "for rule in rules:\n",
    "    an=automata_network(rule=rule)\n",
    "    an.load()\n",
    "    csv.append([rule, an.phase, an.solutions, an.BP.phi, an.BP.rho, an.population_dynamics.psi, an.population_dynamics.phi, an.population_dynamics.complexity, an.population_dynamics.rho])"
   ]
  },
  {
   "cell_type": "code",
   "execution_count": null,
   "id": "316dae3b",
   "metadata": {},
   "outputs": [],
   "source": [
    "df=pd.DataFrame(csv,columns=['Rule', 'Phase', 'Solutions', 'RS entropy', 'RS density', '1RSB full entropy', 'Cluster entropy', 'Complexity', '1RSB density'])\n",
    "df.to_csv('d=3_OT_rules.csv', index=False)"
   ]
  },
  {
   "cell_type": "markdown",
   "id": "7e2e54c8",
   "metadata": {},
   "source": [
    "# Case d=4"
   ]
  },
  {
   "cell_type": "code",
   "execution_count": null,
   "id": "2117f50c",
   "metadata": {},
   "outputs": [],
   "source": [
    "from src.automata_network import *\n",
    "from utils.rules import *"
   ]
  },
  {
   "cell_type": "code",
   "execution_count": null,
   "id": "c08a08b4",
   "metadata": {},
   "outputs": [],
   "source": [
    "rules=generate_independent_OT_rules(d=4)"
   ]
  },
  {
   "cell_type": "code",
   "execution_count": null,
   "id": "882a3bd7",
   "metadata": {},
   "outputs": [],
   "source": [
    "for rule in rules:\n",
    "    if rule[0]!='0' and rule[0]!='+' and rule[4]!='1' and rule[4]!='+':\n",
    "        print('========== Rule : ', rule, '================')\n",
    "        my_automata=automata_network(rule=rule)\n",
    "        my_automata.RS_and_1RSB()\n",
    "        my_automata.save(save_population=True)\n",
    "        if my_automata.solutions=='Exponentially many with no homogeneous stationary solutions':\n",
    "            my_automata.BP_reinforcement()\n",
    "            my_automata.save(save_population=True)"
   ]
  },
  {
   "cell_type": "markdown",
   "id": "d0067d6a",
   "metadata": {},
   "source": [
    "## Results from Table 4 (Success rate of belief propagation)"
   ]
  },
  {
   "cell_type": "markdown",
   "id": "64f1fd7f",
   "metadata": {},
   "source": [
    "The success rates were computed previously and can be accessed using"
   ]
  },
  {
   "cell_type": "code",
   "execution_count": 19,
   "id": "0d60fba3",
   "metadata": {},
   "outputs": [
    {
     "name": "stdout",
     "output_type": "stream",
     "text": [
      "Fraction found for rule -0+0 :  1.0\n"
     ]
    }
   ],
   "source": [
    "a=automata_network(rule=['-','0','+','0'])\n",
    "a.load(load_BP_reinf=True)\n",
    "print('Fraction found for rule -0+0 : ', a.BP_reinf.fraction_found)"
   ]
  },
  {
   "cell_type": "markdown",
   "id": "dfb1cd07",
   "metadata": {},
   "source": [
    "## Reproducing figure 3 (local entropy)"
   ]
  },
  {
   "cell_type": "code",
   "execution_count": 20,
   "id": "ae178732",
   "metadata": {},
   "outputs": [
    {
     "name": "stdout",
     "output_type": "stream",
     "text": [
      "============ ['1', '+', '-', '0', '0'] ===============\n",
      "distance :  0.0\n",
      "No convergence reached for rule  ['1', '+', '-', '0', '0'] after  9999  steps. Final error:  tensor(1.7892e-08)\n",
      "Distance difference :  1.928857508550166e-05  kappa :  -6.849179276964706\n",
      "distance :  0.02564102564102564\n",
      "Converged after  1252  steps. Final error:  tensor(9.8944e-13)\n",
      "Distance difference :  2.42861286636753e-16  kappa :  -0.17567359721653775\n",
      "distance :  0.05128205128205128\n",
      "Converged after  1132  steps. Final error:  tensor(9.9208e-13)\n",
      "Distance difference :  7.355227538141662e-16  kappa :  -0.1687735496646075\n",
      "distance :  0.07692307692307693\n",
      "Converged after  899  steps. Final error:  tensor(9.8422e-13)\n",
      "Distance difference :  1.3114509478384662e-14  kappa :  -0.18667845989476978\n",
      "distance :  0.10256410256410256\n",
      "Converged after  772  steps. Final error:  tensor(9.8982e-13)\n",
      "Distance difference :  6.9111383282915995e-15  kappa :  -0.2031240509663659\n",
      "distance :  0.1282051282051282\n",
      "Converged after  670  steps. Final error:  tensor(9.7404e-13)\n",
      "Distance difference :  5.773159728050814e-15  kappa :  -0.21272968300164916\n",
      "distance :  0.15384615384615385\n",
      "Converged after  615  steps. Final error:  tensor(9.8029e-13)\n",
      "Distance difference :  3.941291737419306e-15  kappa :  -0.21515531046225375\n",
      "distance :  0.1794871794871795\n",
      "Converged after  578  steps. Final error:  tensor(9.8915e-13)\n",
      "Distance difference :  1.3877787807814457e-15  kappa :  -0.21139883887063168\n",
      "distance :  0.20512820512820512\n",
      "Converged after  563  steps. Final error:  tensor(9.7577e-13)\n",
      "Distance difference :  2.3869795029440866e-15  kappa :  -0.20294116773785048\n",
      "distance :  0.23076923076923075\n",
      "Converged after  547  steps. Final error:  tensor(9.9875e-13)\n",
      "Distance difference :  1.7486012637846216e-15  kappa :  -0.1912647022296396\n",
      "distance :  0.2564102564102564\n",
      "Converged after  535  steps. Final error:  tensor(9.9398e-13)\n",
      "Distance difference :  3.885780586188048e-16  kappa :  -0.17759420645203344\n",
      "distance :  0.28205128205128205\n",
      "Converged after  522  steps. Final error:  tensor(9.9684e-13)\n",
      "Distance difference :  1.2212453270876722e-15  kappa :  -0.16279353205236408\n",
      "distance :  0.3076923076923077\n",
      "Converged after  505  steps. Final error:  tensor(9.7810e-13)\n",
      "Distance difference :  2.220446049250313e-15  kappa :  -0.1473727228940846\n",
      "distance :  0.3333333333333333\n",
      "Converged after  479  steps. Final error:  tensor(9.7566e-13)\n",
      "Distance difference :  3.3306690738754696e-15  kappa :  -0.13148157654775455\n",
      "distance :  0.358974358974359\n",
      "Converged after  452  steps. Final error:  tensor(9.9075e-13)\n",
      "Distance difference :  3.219646771412954e-15  kappa :  -0.11489104320335758\n",
      "distance :  0.3846153846153846\n",
      "Converged after  421  steps. Final error:  tensor(9.7882e-13)\n",
      "Distance difference :  7.216449660063518e-16  kappa :  -0.0970716234735336\n",
      "distance :  0.41025641025641024\n",
      "Converged after  385  steps. Final error:  tensor(9.5774e-13)\n",
      "Distance difference :  8.326672684688674e-16  kappa :  -0.07736247030635607\n",
      "distance :  0.4358974358974359\n",
      "Converged after  350  steps. Final error:  tensor(9.3994e-13)\n",
      "Distance difference :  3.885780586188048e-16  kappa :  -0.05515671481304024\n",
      "distance :  0.4615384615384615\n",
      "Converged after  310  steps. Final error:  tensor(9.4450e-13)\n",
      "Distance difference :  6.106226635438361e-16  kappa :  -0.030051917528020056\n",
      "distance :  0.48717948717948717\n",
      "Converged after  280  steps. Final error:  tensor(9.2727e-13)\n",
      "Distance difference :  2.220446049250313e-16  kappa :  -0.0019367095761804731\n",
      "distance :  0.5128205128205128\n",
      "Converged after  306  steps. Final error:  tensor(9.3894e-13)\n",
      "Distance difference :  1.2212453270876722e-15  kappa :  0.02901604504850136\n",
      "distance :  0.5384615384615384\n",
      "Converged after  348  steps. Final error:  tensor(9.6701e-13)\n",
      "Distance difference :  9.992007221626409e-16  kappa :  0.06246391572709148\n",
      "distance :  0.5641025641025641\n",
      "Converged after  385  steps. Final error:  tensor(9.4416e-13)\n",
      "Distance difference :  4.107825191113079e-15  kappa :  0.09807363559488358\n",
      "distance :  0.5897435897435898\n",
      "Converged after  423  steps. Final error:  tensor(9.7113e-13)\n",
      "Distance difference :  1.9984014443252818e-15  kappa :  0.13565130285965843\n",
      "distance :  0.6153846153846154\n",
      "Converged after  456  steps. Final error:  tensor(9.8574e-13)\n",
      "Distance difference :  6.5503158452884236e-15  kappa :  0.17510459999782624\n",
      "distance :  0.641025641025641\n",
      "Converged after  493  steps. Final error:  tensor(9.8143e-13)\n",
      "Distance difference :  1.4432899320127035e-15  kappa :  0.21625496166526315\n",
      "distance :  0.6666666666666666\n",
      "Converged after  521  steps. Final error:  tensor(9.8063e-13)\n",
      "Distance difference :  9.992007221626409e-16  kappa :  0.25870535024301144\n",
      "distance :  0.6923076923076923\n",
      "Converged after  558  steps. Final error:  tensor(9.8315e-13)\n",
      "Distance difference :  5.551115123125783e-16  kappa :  0.3019571346492246\n",
      "distance :  0.717948717948718\n",
      "Converged after  619  steps. Final error:  tensor(9.6709e-13)\n",
      "Distance difference :  3.3306690738754696e-16  kappa :  0.3457970561731547\n",
      "distance :  0.7435897435897436\n",
      "Converged after  713  steps. Final error:  tensor(9.7589e-13)\n",
      "Distance difference :  2.220446049250313e-16  kappa :  0.3910323073745705\n",
      "distance :  0.7692307692307692\n",
      "Converged after  881  steps. Final error:  tensor(9.9049e-13)\n",
      "Distance difference :  4.6629367034256575e-15  kappa :  0.44097031557864463\n",
      "distance :  0.7948717948717948\n",
      "Converged after  1298  steps. Final error:  tensor(9.8668e-13)\n",
      "Distance difference :  7.66053886991358e-15  kappa :  0.5040580914723981\n",
      "distance :  0.8205128205128205\n",
      "Converged after  3572  steps. Final error:  tensor(9.9714e-13)\n",
      "Distance difference :  5.440092820663267e-15  kappa :  0.6139519531211322\n",
      "distance :  0.8461538461538461\n",
      "No convergence reached for rule  ['1', '+', '-', '0', '0'] after  9999  steps. Final error:  tensor(0.0040)\n",
      "Distance difference :  2.629371781526224e-06  kappa :  0.9287185492499523\n",
      "distance :  0.8717948717948718\n",
      "No convergence reached for rule  ['1', '+', '-', '0', '0'] after  9999  steps. Final error:  tensor(0.0085)\n",
      "Distance difference :  9.972609556918588e-05  kappa :  2.4274386903133016\n",
      "distance :  0.0\n",
      "No convergence reached for rule  ['1', '+', '-', '0', '0'] after  9999  steps. Final error:  tensor(1.7896e-08)\n",
      "Distance difference :  1.9290509324954557e-05  kappa :  -6.849078899502369\n",
      "distance :  0.0016666666666666668\n",
      "Converged after  2922  steps. Final error:  tensor(9.9780e-13)\n",
      "Distance difference :  1.2388631787096926e-11  kappa :  -2.309965235956785\n",
      "distance :  0.0033333333333333335\n",
      "Converged after  1397  steps. Final error:  tensor(9.8438e-13)\n",
      "Distance difference :  5.676738159404726e-12  kappa :  -1.568694071048132\n",
      "distance :  0.005\n",
      "Converged after  919  steps. Final error:  tensor(9.8725e-13)\n",
      "Distance difference :  3.21187867968753e-12  kappa :  -1.1440537033009595\n",
      "distance :  0.006666666666666667\n",
      "Converged after  611  steps. Final error:  tensor(9.9631e-13)\n",
      "Distance difference :  1.6130560429039598e-12  kappa :  -0.8602829113884627\n",
      "distance :  0.008333333333333333\n",
      "Converged after  489  steps. Final error:  tensor(9.6596e-13)\n",
      "Distance difference :  1.7660352347181885e-13  kappa :  -0.6593308936458722\n",
      "distance :  0.01\n",
      "Converged after  516  steps. Final error:  tensor(9.8545e-13)\n",
      "Distance difference :  9.996135863499234e-13  kappa :  -0.5141666338842321\n",
      "distance :  0.011666666666666667\n",
      "Converged after  560  steps. Final error:  tensor(9.6157e-13)\n",
      "Distance difference :  5.878422748573087e-13  kappa :  -0.40951174598121987\n",
      "distance :  0.013333333333333334\n",
      "Converged after  604  steps. Final error:  tensor(9.6383e-13)\n",
      "Distance difference :  2.549939426277348e-13  kappa :  -0.33521260642188816\n",
      "distance :  0.015000000000000001\n",
      "Converged after  660  steps. Final error:  tensor(9.9524e-13)\n",
      "Distance difference :  1.8119013234230152e-13  kappa :  -0.2832007390031622\n",
      "distance :  0.016666666666666666\n",
      "Converged after  744  steps. Final error:  tensor(9.8873e-13)\n",
      "Distance difference :  4.8329396040713846e-15  kappa :  -0.24688286563435008\n",
      "distance :  0.018333333333333333\n",
      "Converged after  832  steps. Final error:  tensor(9.9182e-13)\n",
      "Distance difference :  4.748632043138912e-14  kappa :  -0.22151899083536344\n",
      "distance :  0.02\n",
      "Converged after  926  steps. Final error:  tensor(9.8940e-13)\n",
      "Distance difference :  1.0720591081536668e-14  kappa :  -0.20380397414881984\n",
      "distance :  0.021666666666666667\n",
      "Converged after  1014  steps. Final error:  tensor(9.8015e-13)\n",
      "Distance difference :  6.179085021429387e-15  kappa :  -0.1914486473240919\n",
      "distance :  0.023333333333333334\n",
      "Converged after  1102  steps. Final error:  tensor(9.8165e-13)\n",
      "Distance difference :  1.429412144204889e-15  kappa :  -0.18296160300879127\n",
      "distance :  0.025\n",
      "Converged after  1187  steps. Final error:  tensor(9.9042e-13)\n",
      "Distance difference :  2.84147705365001e-15  kappa :  -0.17729473468740825\n",
      "distance :  0.02666666666666667\n",
      "Converged after  1273  steps. Final error:  tensor(9.9153e-13)\n",
      "Distance difference :  1.772887392448297e-14  kappa :  -0.1735571759388967\n",
      "distance :  0.028333333333333335\n",
      "Converged after  1328  steps. Final error:  tensor(9.8676e-13)\n",
      "Distance difference :  1.2097961521462253e-14  kappa :  -0.17102011020676372\n",
      "distance :  0.030000000000000002\n",
      "Converged after  1359  steps. Final error:  tensor(9.9609e-13)\n",
      "Distance difference :  4.201500258815827e-15  kappa :  -0.16920610251572524\n",
      "distance :  0.03166666666666667\n",
      "Converged after  1364  steps. Final error:  tensor(9.9197e-13)\n",
      "Distance difference :  1.7139067942650854e-15  kappa :  -0.1678651773581449\n",
      "distance :  0.03333333333333333\n",
      "Converged after  1341  steps. Final error:  tensor(9.8716e-13)\n",
      "Distance difference :  1.5265566588595902e-16  kappa :  -0.1668825715381964\n",
      "distance :  0.035\n",
      "Converged after  1301  steps. Final error:  tensor(9.8421e-13)\n",
      "Distance difference :  3.3653635433950058e-15  kappa :  -0.16619745135239522\n",
      "distance :  0.03666666666666667\n",
      "Converged after  1329  steps. Final error:  tensor(9.9454e-13)\n",
      "Distance difference :  6.106226635438361e-15  kappa :  -0.1657637164623957\n",
      "distance :  0.03833333333333334\n",
      "Converged after  1342  steps. Final error:  tensor(9.9065e-13)\n",
      "Distance difference :  6.696032617270475e-15  kappa :  -0.1655420843212696\n",
      "distance :  0.04\n",
      "Converged after  1337  steps. Final error:  tensor(9.8630e-13)\n",
      "Distance difference :  6.800116025829084e-15  kappa :  -0.16550172445626715\n"
     ]
    }
   ],
   "source": [
    "rule=['1', '+', '-', '0', '0']\n",
    "print('============', rule, '===============')\n",
    "a=automata_network(rule)\n",
    "a.load(load_BP_reinf=True, load_BP_reinf_graph=True)\n",
    "distances=np.linspace(0, 1, 40)\n",
    "LEs=[]\n",
    "for idx, distance in enumerate(distances):\n",
    "    print('distance : ', distance)\n",
    "    a.BP_reinf.reset_messages()\n",
    "    a.BP_reinf.run_LE_adaptative(distance=distance, verbose=1, adaptative_factor=5, max_iter=10000)\n",
    "    LEs.append(a.BP_reinf.local_entropy)\n",
    "    if (a.BP_reinf.local_entropy<-a.BP.phi/3 and idx!=39) or np.isnan(a.BP_reinf.distance):\n",
    "        distances=distances[0:idx+1]\n",
    "        break\n",
    "\n",
    "a.BP_reinf.kappa=0\n",
    "distances_zoom=np.linspace(0, 0.04, 25)\n",
    "LEs_zoom=[]\n",
    "for idx, distance in enumerate(distances_zoom):\n",
    "    print('distance : ', distance)\n",
    "    a.BP_reinf.reset_messages()\n",
    "    a.BP_reinf.run_LE_adaptative(distance=distance, verbose=1, adaptative_factor=5, max_iter=10000)\n",
    "    LEs_zoom.append(a.BP_reinf.local_entropy)\n",
    "    if a.BP_reinf.local_entropy<-a.BP.phi/2 and idx!=19:\n",
    "        distances_zoom=distances_zoom[0:idx+1]\n",
    "        break\n",
    "\n"
   ]
  },
  {
   "cell_type": "code",
   "execution_count": 21,
   "id": "7ca7bf5e",
   "metadata": {},
   "outputs": [
    {
     "data": {
      "text/plain": [
       "(<matplotlib.patches.Rectangle at 0x7f2584da48b0>,\n",
       " (<matplotlib.patches.ConnectionPatch at 0x7f2584d6e8b0>,\n",
       "  <matplotlib.patches.ConnectionPatch at 0x7f258485ae80>,\n",
       "  <matplotlib.patches.ConnectionPatch at 0x7f2584d6e220>,\n",
       "  <matplotlib.patches.ConnectionPatch at 0x7f2584913460>))"
      ]
     },
     "execution_count": 21,
     "metadata": {},
     "output_type": "execute_result"
    },
    {
     "data": {
      "image/png": "[encoded data removed]",
      "text/plain": [
       "<Figure size 360x288 with 1 Axes>"
      ]
     },
     "metadata": {
      "needs_background": "light"
     },
     "output_type": "display_data"
    }
   ],
   "source": [
    "import scipy as sp\n",
    "\n",
    "fig, ax = plt.subplots(figsize=[5, 4])\n",
    "\n",
    "\n",
    "ax.plot(distances, LEs, 'x', color='C0')\n",
    "d=np.linspace(0,1,100)\n",
    "N=1000\n",
    "ax.hlines(0, -1,2, linestyles='--', color='k')\n",
    "ax.set_ylabel('$s_{LE}$', fontsize=16)\n",
    "ax.set_xlabel('$d$', fontsize=16)\n",
    "\n",
    "\n",
    "ax.set_xlim([-0.05,1.05])\n",
    "\n",
    "axins = ax.inset_axes([0.25, 0.19, 0.4, 0.4])\n",
    "axins.plot(distances_zoom, LEs_zoom, 'x', color='C0')\n",
    "phi_max_zoom=np.log(sp.special.comb(N, N*distances_zoom))/N\n",
    "axins.plot(distances_zoom, phi_max_zoom, '-', color='grey')\n",
    "\n",
    "axins.hlines(0, -1,2, linestyles='--', color='k')\n",
    "\n",
    "\n",
    "# sub region of the original image\n",
    "x1, x2, y1, y2 = -0.005, 0.04, -0.005, 0.025\n",
    "axins.set_xlim(x1, x2)\n",
    "axins.set_ylim(y1, y2)\n",
    "\n",
    "ax.indicate_inset_zoom(axins)\n",
    "#plt.savefig('figures/local_entropy_RW/Local_entropy_1+-00_with_entropy'+str(rule)+'.png', bbox_inches='tight')"
   ]
  },
  {
   "cell_type": "markdown",
   "id": "03667fc1",
   "metadata": {},
   "source": [
    "The same procedure was used to produce figure 3 (right). Note however that the stored solution is the one found for $N=100000$, so that a solution for $N=1000$ should be found before computing the local entropy."
   ]
  }
 ],
 "metadata": {
  "kernelspec": {
   "display_name": "Python 3",
   "language": "python",
   "name": "python3"
  },
  "language_info": {
   "codemirror_mode": {
    "name": "ipython",
    "version": 3
   },
   "file_extension": ".py",
   "mimetype": "text/x-python",
   "name": "python",
   "nbconvert_exporter": "python",
   "pygments_lexer": "ipython3",
   "version": "3.8.18"
  }
 },
 "nbformat": 4,
 "nbformat_minor": 5
}
